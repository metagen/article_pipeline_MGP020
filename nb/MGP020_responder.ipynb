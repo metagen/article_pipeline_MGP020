{
 "cells": [
  {
   "cell_type": "code",
   "execution_count": 1,
   "metadata": {},
   "outputs": [
    {
     "name": "stderr",
     "output_type": "stream",
     "text": [
      "\n",
      "Bad key \"text.kerning_factor\" on line 4 in\n",
      "/Users/yamauchi/miniconda3/lib/python3.7/site-packages/matplotlib/mpl-data/stylelib/_classic_test_patch.mplstyle.\n",
      "You probably need to get an updated matplotlibrc file from\n",
      "https://github.com/matplotlib/matplotlib/blob/v3.1.3/matplotlibrc.template\n",
      "or from the matplotlib source distribution\n"
     ]
    }
   ],
   "source": [
    "import os\n",
    "import sys\n",
    "import warnings\n",
    "import numpy as np\n",
    "import pandas as pd\n",
    "import scipy.stats as st\n",
    "import seaborn as sns\n",
    "import matplotlib.pyplot as plt\n",
    "from sigfig import round\n",
    "from collections import defaultdict\n",
    "from os.path import dirname, abspath\n",
    "from IPython.display import display\n",
    "\n",
    "%matplotlib inline\n",
    "warnings.filterwarnings('ignore')"
   ]
  },
  {
   "cell_type": "code",
   "execution_count": 2,
   "metadata": {},
   "outputs": [],
   "source": [
    "def get_samesubject_sampleids(mdf, mkey, mvals, msk=\"subject_id\", axis=1, return_subjectid=False):\n",
    "    def query_col(df, key, val):\n",
    "        return df.loc[:, df.loc[key, :] == val]\n",
    "\n",
    "    m = \"metadata table is not unique by -mk and -msk\"\n",
    "    subject_ids = sorted(set(mdf.loc[msk, :]))\n",
    "    sample_ids = []\n",
    "    for mval in mvals:\n",
    "        _sample_ids = []\n",
    "        for subject_id in subject_ids:\n",
    "            mdf_ext_step1 = query_col(mdf, msk, subject_id)\n",
    "            mdf_ext_step2 = query_col(mdf_ext_step1, mkey, mval)\n",
    "            if mdf_ext_step2.shape[1] != 1:\n",
    "                raise ValueError(m)\n",
    "            _sample_ids.append(mdf_ext_step2.columns[0])\n",
    "        sample_ids.append(_sample_ids)\n",
    "\n",
    "    if return_subjectid and axis == 1:\n",
    "        return sample_ids, subject_ids\n",
    "    elif not return_subjectid and axis == 1:\n",
    "        return sample_ids\n",
    "    elif return_subjectid and axis == 0:\n",
    "        return [list(x) for x in zip(*sample_ids)], subject_ids\n",
    "    elif not return_subjectid and axis == 0:\n",
    "        return [list(x) for x in zip(*sample_ids)]\n",
    "\n",
    "\n",
    "def make_effsize_df(df, mdf, mkey, mvals, pattern_responder_score):\n",
    "    (sampleids_ctrl, sampleids_test), subject_ids = get_samesubject_sampleids(mdf, mkey, mvals, return_subjectid=True)\n",
    "    dd = defaultdict(lambda: defaultdict(int))\n",
    "    for ind in df.index:\n",
    "        for sampleid_ctrl, sampleid_test, subject_id in zip(sampleids_ctrl, sampleids_test, subject_ids):\n",
    "            ctrl = df.loc[ind, sampleid_ctrl]\n",
    "            test = df.loc[ind, sampleid_test]\n",
    "            if pattern_responder_score == 1:\n",
    "                effsize = test - ctrl\n",
    "            elif pattern_responder_score == 2:\n",
    "                effsize = (test - ctrl) / ctrl\n",
    "            else:\n",
    "                raise ValueError()\n",
    "            dd[subject_id][ind] = effsize\n",
    "    return pd.DataFrame(dd)\n",
    "\n",
    "\n",
    "def fill_inf(s):\n",
    "    if s.isnull().any():\n",
    "        raise ValueError(\"isnull.any\")\n",
    "    s = s.replace(np.inf, np.nan)\n",
    "    s = s.fillna(s.max())\n",
    "    s = s.replace(-np.inf, np.nan)\n",
    "    s = s.fillna(s.min())\n",
    "    return s\n",
    "\n",
    "\n",
    "def dropna_paired(vals1, vals2):\n",
    "    new_vals1 = []\n",
    "    new_vals2 = []\n",
    "    for val1, val2 in zip(vals1, vals2):\n",
    "        if not np.isnan(val1) and not np.isnan(val2):\n",
    "            new_vals1.append(val1)\n",
    "            new_vals2.append(val2)\n",
    "    return new_vals1, new_vals2"
   ]
  },
  {
   "cell_type": "code",
   "execution_count": 3,
   "metadata": {},
   "outputs": [],
   "source": [
    "ge = pd.read_csv(\"../data_input/ge.tsv\", sep=\"\\t\", header=0, index_col=0)\n",
    "ra = pd.read_csv(\"../data_input/ra.tsv\", sep=\"\\t\", header=0, index_col=0)\n",
    "co = pd.read_csv(\"../data_input/scfa.abs.tsv\", sep=\"\\t\", header=0, index_col=0)\n",
    "nm = pd.read_csv(\"../data_input/nm.tsv\", sep=\"\\t\", header=0, index_col=0)\n",
    "me = pd.read_csv(\"../data_input/me.tsv\", sep=\"\\t\", header=0, index_col=0)\n",
    "\n",
    "ge = ge.loc[ge.mean(axis=1) >= 0.001]\n",
    "ra = ra.loc[((ra > 0).sum(axis=1) / len(ra.columns)) >= 0.25]\n",
    "ra.drop(ra.loc[ra.index.str.contains(\"\\n\")].index, inplace=True)\n",
    "ra.drop(ra.loc[ra.index.str.startswith(\"XA\")].index, inplace=True)\n",
    "ra.drop(ra.loc[ra.index.str.startswith(\"XC\")].index, inplace=True)"
   ]
  },
  {
   "cell_type": "code",
   "execution_count": 4,
   "metadata": {},
   "outputs": [],
   "source": [
    "df_all = pd.concat([ge, ra, nm])"
   ]
  },
  {
   "cell_type": "code",
   "execution_count": 5,
   "metadata": {},
   "outputs": [],
   "source": [
    "def make_responder_table(mkey, mvals, ge, ra, nm, me, dk, group):\n",
    "    ge_GP = ge.loc[:, me.loc[\"group\"]==group]\n",
    "    ra_GP = ra.loc[:, me.loc[\"group\"]==group]\n",
    "    nm_GP = nm.loc[:, me.loc[\"group\"]==group]\n",
    "    me_GP = me.loc[:, me.loc[\"group\"]==group]    \n",
    "\n",
    "    pattern_responder_score = 2\n",
    "\n",
    "    ge_eff = make_effsize_df(ge_GP, me_GP, mkey, mvals, pattern_responder_score).fillna(0)\n",
    "    ra_eff = make_effsize_df(ra_GP, me_GP, mkey, mvals, pattern_responder_score).fillna(0)\n",
    "    nm_eff = make_effsize_df(nm_GP, me_GP, mkey, mvals, pattern_responder_score).fillna(0)\n",
    "\n",
    "    eff_all = pd.concat([ge_eff, ra_eff, nm_eff])\n",
    "\n",
    "    me_base = me_GP.T.query(f\"timepoint == '0w'\").T\n",
    "    me_eff = me_base.copy()\n",
    "    me_eff.columns = me_eff.loc[\"subject_id\", :]\n",
    "\n",
    "    # baselineの抽出\n",
    "    ge_base = ge_GP.loc[:, me_base.columns]\n",
    "    ra_base = ra_GP.loc[:, me_base.columns]\n",
    "    nm_base = nm_GP.loc[:, me_base.columns]\n",
    "\n",
    "    # ベースライン\n",
    "    dd = defaultdict(lambda: defaultdict(int))\n",
    "    base = pd.concat([ge_base, ra_base, nm_base]).T\n",
    "    _base = base.copy()\n",
    "    _base.index = [me_GP.loc[\"subject_id\", sample_id] for sample_id in _base.index]\n",
    "    for col in _base.columns:\n",
    "        x = _base.loc[_base.index, col]\n",
    "        y = eff_all.loc[dk, _base.index]\n",
    "        x = fill_inf(x)\n",
    "        y = fill_inf(y)\n",
    "        per, pep = st.pearsonr(x, y)\n",
    "        spr, spp = st.spearmanr(x, y)\n",
    "        dd[col][\"PearsonR_base\"] = per\n",
    "        dd[col][\"PearsonP_base\"] = pep\n",
    "        dd[col][\"SpearmanR_base\"] = spr\n",
    "        dd[col][\"SpearmanP_base\"] = spp\n",
    "    responder_base_GP = pd.DataFrame(dd).T\n",
    "\n",
    "    # 変化量\n",
    "    dd = defaultdict(lambda: defaultdict(int))\n",
    "    eff = eff_all.T\n",
    "    for col in eff.columns:\n",
    "        x = eff[col]\n",
    "        y = eff[dk]\n",
    "        x = fill_inf(x)\n",
    "        y = fill_inf(y)\n",
    "        per, pep = st.pearsonr(x, y)\n",
    "        spr, spp = st.spearmanr(x, y)\n",
    "        dd[col][\"PearsonR_eff\"] = per\n",
    "        dd[col][\"PearsonP_eff\"] = pep\n",
    "        dd[col][\"SpearmanR_eff\"] = spr\n",
    "        dd[col][\"SpearmanP_eff\"] = spp\n",
    "    responder_eff_GP = pd.DataFrame(dd).T\n",
    "    \n",
    "    return responder_base_GP, responder_eff_GP"
   ]
  },
  {
   "cell_type": "code",
   "execution_count": 6,
   "metadata": {},
   "outputs": [],
   "source": [
    "resp_IgA_C_base, resp_IgA_C_eff = make_responder_table(\"timepoint\", [\"0w\", \"4w\"], ge, ra, nm, me,\"IgA\", \"C\")\n",
    "resp_IgA_T_base, resp_IgA_T_eff = make_responder_table(\"timepoint\", [\"0w\", \"4w\"], ge, ra, nm, me,\"IgA\", \"T\")\n",
    "resp_Acetate_C_base, resp_Acetate_C_eff = make_responder_table(\"timepoint\", [\"0w\", \"4w\"], ge, co, nm, me,\"Acetate\", \"C\")\n",
    "resp_Acetate_T_base, resp_Acetate_T_eff = make_responder_table(\"timepoint\", [\"0w\", \"4w\"], ge, co, nm, me,\"Acetate\", \"T\")\n",
    "resp_Propionate_C_base, resp_Propionate_C_eff = make_responder_table(\"timepoint\", [\"0w\", \"4w\"], ge, ra, nm, me,\"Propionic acid\", \"C\")\n",
    "resp_Propionate_T_base, resp_Propionate_T_eff = make_responder_table(\"timepoint\", [\"0w\", \"4w\"], ge, ra, nm, me,\"Propionic acid\", \"T\")\n",
    "resp_Butyrate_C_base, resp_Butyrate_C_eff = make_responder_table(\"timepoint\", [\"0w\", \"4w\"], ge, ra, nm, me,\"Butyric acid\", \"C\")\n",
    "resp_Butyrate_T_base, resp_Butyrate_T_eff = make_responder_table(\"timepoint\", [\"0w\", \"4w\"], ge, ra, nm, me,\"Butyric acid\", \"T\")\n",
    "resp_Succinate_C_base, resp_Succinate_C_eff = make_responder_table(\"timepoint\", [\"0w\", \"4w\"], ge, ra, nm, me,\"Succinic acid\", \"C\")\n",
    "resp_Succinate_T_base, resp_Succinate_T_eff = make_responder_table(\"timepoint\", [\"0w\", \"4w\"], ge, ra, nm, me,\"Succinic acid\", \"T\")"
   ]
  },
  {
   "cell_type": "code",
   "execution_count": 7,
   "metadata": {},
   "outputs": [],
   "source": [
    "!mkdir -p ../data_output/responder"
   ]
  },
  {
   "cell_type": "code",
   "execution_count": 8,
   "metadata": {},
   "outputs": [],
   "source": [
    "resp_IgA_C_base.to_csv(\"../data_output/responder/responder.IgA_C_base.tsv\", sep=\"\\t\")\n",
    "resp_IgA_C_eff.to_csv(\"../data_output/responder/responder.IgA_C_eff.tsv\", sep=\"\\t\")\n",
    "resp_IgA_T_base.to_csv(\"../data_output/responder/responder.IgA_T_base.tsv\", sep=\"\\t\")\n",
    "resp_IgA_T_eff.to_csv(\"../data_output/responder/responder.IgA_T_eff.tsv\", sep=\"\\t\")\n",
    "resp_Acetate_C_base.to_csv(\"../data_output/responder/responder.Acetate_C_base.tsv\", sep=\"\\t\")\n",
    "resp_Acetate_C_eff.to_csv(\"../data_output/responder/responder.Acetate_C_eff.tsv\", sep=\"\\t\")\n",
    "resp_Acetate_T_base.to_csv(\"../data_output/responder/responder.Acetate_T_base.tsv\", sep=\"\\t\")\n",
    "resp_Acetate_T_eff.to_csv(\"../data_output/responder/responder.Acetate_T_eff.tsv\", sep=\"\\t\")\n",
    "resp_Propionate_C_base.to_csv(\"../data_output/responder/responder.Propionate_C_base.tsv\", sep=\"\\t\")\n",
    "resp_Propionate_C_eff.to_csv(\"../data_output/responder/responder.Propionate_C_eff.tsv\", sep=\"\\t\")\n",
    "resp_Propionate_T_base.to_csv(\"../data_output/responder/responder.Propionate_T_base.tsv\", sep=\"\\t\")\n",
    "resp_Propionate_T_eff.to_csv(\"../data_output/responder/responder.Propionate_T_eff.tsv\", sep=\"\\t\")\n",
    "resp_Butyrate_C_base.to_csv(\"../data_output/responder/responder.Butyrate_C_base.tsv\", sep=\"\\t\")\n",
    "resp_Butyrate_C_eff.to_csv(\"../data_output/responder/responder.Butyrate_C_eff.tsv\", sep=\"\\t\")\n",
    "resp_Butyrate_T_base.to_csv(\"../data_output/responder/responder.Butyrate_T_base.tsv\", sep=\"\\t\")\n",
    "resp_Butyrate_T_eff.to_csv(\"../data_output/responder/responder.Butyrate_T_eff.tsv\", sep=\"\\t\")\n",
    "resp_Succinate_C_base.to_csv(\"../data_output/responder/responder.Succinate_C_base.tsv\", sep=\"\\t\")\n",
    "resp_Succinate_C_eff.to_csv(\"../data_output/responder/responder.Succinate_C_eff.tsv\", sep=\"\\t\")\n",
    "resp_Succinate_T_base.to_csv(\"../data_output/responder/responder.Succinate_T_base.tsv\", sep=\"\\t\")\n",
    "resp_Succinate_T_eff.to_csv(\"../data_output/responder/responder.Succinate_T_eff.tsv\", sep=\"\\t\")"
   ]
  },
  {
   "cell_type": "code",
   "execution_count": null,
   "metadata": {},
   "outputs": [],
   "source": []
  },
  {
   "cell_type": "code",
   "execution_count": 13,
   "metadata": {},
   "outputs": [],
   "source": [
    "def draw_heatmap_1(df_base_C, df_base_T, df_eff_C, df_eff_T, ref, dk):\n",
    "    responder_eff = pd.DataFrame(columns=[\"CF_R\", \"CF_p\", \"FG_R\", \"FG_p\"])\n",
    "\n",
    "    for ind in ref.index:\n",
    "        if ind == dk:\n",
    "            continue\n",
    "    #     if (responder_eff_C.loc[ind, \"SpearmanP_eff\"] < 0.05) or (responder_eff_T.loc[ind, \"SpearmanP_eff\"] < 0.05):\n",
    "        if ((df_eff_C.loc[ind, \"PearsonP_eff\"] < 0.1) and (df_eff_C.loc[ind, \"SpearmanP_eff\"] < 0.05)) or ((df_eff_T.loc[ind, \"PearsonP_eff\"] < 0.1) and (df_eff_T.loc[ind, \"SpearmanP_eff\"] < 0.05)):\n",
    "            responder_eff.loc[ind, \"CF_R\"] = df_eff_C.loc[ind, \"SpearmanR_eff\"]\n",
    "            responder_eff.loc[ind, \"CF_p\"] = df_eff_C.loc[ind, \"SpearmanP_eff\"]\n",
    "            responder_eff.loc[ind, \"FG_R\"] = df_eff_T.loc[ind, \"SpearmanR_eff\"]\n",
    "            responder_eff.loc[ind, \"FG_p\"] = df_eff_T.loc[ind, \"SpearmanP_eff\"]\n",
    "\n",
    "    responder_base = pd.DataFrame(columns=[\"CF_R\", \"CF_p\", \"FG_R\", \"FG_p\"])\n",
    "\n",
    "    for ind in ref.index:\n",
    "        if ind == dk:\n",
    "            continue\n",
    "    #     if (responder_base_C.loc[ind, \"SpearmanP_base\"] < 0.05) or (responder_base_T.loc[ind, \"SpearmanP_base\"] < 0.05):\n",
    "        if ((df_base_C.loc[ind, \"PearsonP_base\"] < 0.1) and (df_base_C.loc[ind, \"SpearmanP_base\"] < 0.05)) or ((df_base_T.loc[ind, \"PearsonP_base\"] < 0.1) and (df_base_T.loc[ind, \"SpearmanP_base\"] < 0.05)):\n",
    "            responder_base.loc[ind, \"CF_R\"] = df_base_C.loc[ind, \"SpearmanR_base\"]\n",
    "            responder_base.loc[ind, \"CF_p\"] = df_base_C.loc[ind, \"SpearmanP_base\"]\n",
    "            responder_base.loc[ind, \"FG_R\"] = df_base_T.loc[ind, \"SpearmanR_base\"]\n",
    "            responder_base.loc[ind, \"FG_p\"] = df_base_T.loc[ind, \"SpearmanP_base\"]\n",
    "            \n",
    "    plt.figure(figsize=(3, 1*len(responder_base.index)))\n",
    "    sns.heatmap(responder_base[[\"CF_R\", \"FG_R\"]].astype(float), cmap=\"coolwarm\", vmax=.5, vmin=-.5, annot=True, xticklabels=[\"CF\", \"FG\"])\n",
    "    plt.savefig(f\"heatmap.responder.{dk}.baseline.pdf\", bbox_inches=\"tight\")\n",
    "    plt.show()\n",
    "    \n",
    "    plt.figure(figsize=(2, 0.4*len(responder_eff.index)))\n",
    "    sns.heatmap(responder_eff[[\"CF_R\", \"FG_R\"]].astype(float), cmap=\"coolwarm\", vmax=.5, vmin=-.5, annot=True, xticklabels=[\"CF\", \"FG\"])\n",
    "    plt.savefig(f\"heatmap.responder.{dk}.eff.pdf\", bbox_inches=\"tight\")\n",
    "    plt.show()"
   ]
  },
  {
   "cell_type": "code",
   "execution_count": 10,
   "metadata": {},
   "outputs": [],
   "source": [
    "def draw_heatmap_2(df_base_C, df_base_T, df_eff_C, df_eff_T, ref, dk):\n",
    "    responder_eff = pd.DataFrame(columns=[\"CF_R\", \"CF_p\", \"FG_R\", \"FG_p\"])\n",
    "\n",
    "    for ind in ref.index:\n",
    "        if ind == dk:\n",
    "            continue\n",
    "#         if (df_eff_C.loc[ind, \"SpearmanP_eff\"] < 0.05) or (df_eff_T.loc[ind, \"SpearmanP_eff\"] < 0.05):\n",
    "        if ((df_eff_C.loc[ind, \"PearsonP_eff\"] < 0.1) and (df_eff_C.loc[ind, \"SpearmanP_eff\"] < 0.05)) or ((df_eff_T.loc[ind, \"PearsonP_eff\"] < 0.1) and (df_eff_T.loc[ind, \"SpearmanP_eff\"] < 0.05)):\n",
    "            responder_eff.loc[ind, \"CF_R\"] = df_eff_C.loc[ind, \"SpearmanR_eff\"]\n",
    "            responder_eff.loc[ind, \"CF_p\"] = df_eff_C.loc[ind, \"SpearmanP_eff\"]\n",
    "            responder_eff.loc[ind, \"FG_R\"] = df_eff_T.loc[ind, \"SpearmanR_eff\"]\n",
    "            responder_eff.loc[ind, \"FG_p\"] = df_eff_T.loc[ind, \"SpearmanP_eff\"]\n",
    "\n",
    "    responder_base = pd.DataFrame(columns=[\"CF_R\", \"CF_p\", \"FG_R\", \"FG_p\"])\n",
    "\n",
    "    for ind in ref.index:\n",
    "        if ind == dk:\n",
    "            continue\n",
    "#         if (df_base_C.loc[ind, \"SpearmanP_base\"] < 0.05) or (df_base_T.loc[ind, \"SpearmanP_base\"] < 0.05):\n",
    "        if ((df_base_C.loc[ind, \"PearsonP_base\"] < 0.1) and (df_base_C.loc[ind, \"SpearmanP_base\"] < 0.05)) or ((df_base_T.loc[ind, \"PearsonP_base\"] < 0.1) and (df_base_T.loc[ind, \"SpearmanP_base\"] < 0.05)):\n",
    "            responder_base.loc[ind, \"CF_R\"] = df_base_C.loc[ind, \"SpearmanR_base\"]\n",
    "            responder_base.loc[ind, \"CF_p\"] = df_base_C.loc[ind, \"SpearmanP_base\"]\n",
    "            responder_base.loc[ind, \"FG_R\"] = df_base_T.loc[ind, \"SpearmanR_base\"]\n",
    "            responder_base.loc[ind, \"FG_p\"] = df_base_T.loc[ind, \"SpearmanP_base\"]\n",
    "            \n",
    "    plt.figure(figsize=(2, 0.4*len(responder_base.index)))\n",
    "    sns.heatmap(responder_base[[\"CF_R\", \"FG_R\"]].astype(float), cmap=\"coolwarm\", vmax=.5, vmin=-.5, annot=True, xticklabels=[\"CF\", \"FG\"])\n",
    "    plt.savefig(f\"heatmap.responder.{dk}.baseline.pdf\", bbox_inches=\"tight\")\n",
    "    plt.show()\n",
    "    \n",
    "    plt.figure(figsize=(2, 0.4*len(responder_eff.index)))\n",
    "    sns.heatmap(responder_eff[[\"CF_R\", \"FG_R\"]].astype(float), cmap=\"coolwarm\", vmax=.5, vmin=-.5, annot=True, xticklabels=[\"CF\", \"FG\"])\n",
    "    plt.savefig(f\"heatmap.responder.{dk}.eff.pdf\", bbox_inches=\"tight\")\n",
    "    plt.show()"
   ]
  },
  {
   "cell_type": "code",
   "execution_count": 11,
   "metadata": {},
   "outputs": [],
   "source": [
    "plt.rcParams[\"font.family\"] = \"Arial\""
   ]
  },
  {
   "cell_type": "code",
   "execution_count": 14,
   "metadata": {
    "scrolled": true
   },
   "outputs": [
    {
     "data": {
      "image/png": "[encoded data removed]",
      "text/plain": [
       "<Figure size 216x216 with 2 Axes>"
      ]
     },
     "metadata": {
      "needs_background": "light"
     },
     "output_type": "display_data"
    },
    {
     "data": {
      "image/png": "[encoded data removed]",
      "text/plain": [
       "<Figure size 144x201.6 with 2 Axes>"
      ]
     },
     "metadata": {
      "needs_background": "light"
     },
     "output_type": "display_data"
    },
    {
     "data": {
      "image/png": "[encoded data removed]",
      "text/plain": [
       "<Figure size 144x28.8 with 2 Axes>"
      ]
     },
     "metadata": {
      "needs_background": "light"
     },
     "output_type": "display_data"
    },
    {
     "data": {
      "image/png": "[encoded data removed]",
      "text/plain": [
       "<Figure size 144x28.8 with 2 Axes>"
      ]
     },
     "metadata": {
      "needs_background": "light"
     },
     "output_type": "display_data"
    },
    {
     "data": {
      "image/png": "[encoded data removed]",
      "text/plain": [
       "<Figure size 144x86.4 with 2 Axes>"
      ]
     },
     "metadata": {
      "needs_background": "light"
     },
     "output_type": "display_data"
    },
    {
     "data": {
      "image/png": "[encoded data removed]",
      "text/plain": [
       "<Figure size 144x288 with 2 Axes>"
      ]
     },
     "metadata": {
      "needs_background": "light"
     },
     "output_type": "display_data"
    },
    {
     "data": {
      "image/png": "[encoded data removed]",
      "text/plain": [
       "<Figure size 144x115.2 with 2 Axes>"
      ]
     },
     "metadata": {
      "needs_background": "light"
     },
     "output_type": "display_data"
    },
    {
     "data": {
      "image/png": "[encoded data removed]",
      "text/plain": [
       "<Figure size 144x288 with 2 Axes>"
      ]
     },
     "metadata": {
      "needs_background": "light"
     },
     "output_type": "display_data"
    }
   ],
   "source": [
    "draw_heatmap_1(resp_IgA_C_base, resp_IgA_T_base, resp_IgA_C_eff, resp_IgA_T_eff, pd.concat([ge, ra]), \"IgA\")\n",
    "draw_heatmap_2(resp_Acetate_C_base, resp_Acetate_T_base, resp_Acetate_C_eff, resp_Acetate_T_eff, ge, \"Acetate\")\n",
    "draw_heatmap_2(resp_Propionate_C_base, resp_Propionate_T_base, resp_Propionate_C_eff, resp_Propionate_T_eff, ge, \"Propionic acid\")\n",
    "draw_heatmap_2(resp_Butyrate_C_base, resp_Butyrate_T_base, resp_Butyrate_C_eff, resp_Butyrate_T_eff, ge, \"Butyric acid\")"
   ]
  },
  {
   "cell_type": "code",
   "execution_count": 150,
   "metadata": {},
   "outputs": [],
   "source": [
    "def pval_table(df_eff_C, df_eff_T, ref, dk):\n",
    "    responder_eff = pd.DataFrame(columns=[\"CF_p\", \"FG_p\"])\n",
    "\n",
    "    for ind in ref.index:\n",
    "        if ind == dk:\n",
    "            continue\n",
    "        if ((df_eff_C.loc[ind, \"PearsonP_eff\"] < 0.1) and (df_eff_C.loc[ind, \"SpearmanP_eff\"] < 0.05)) or ((df_eff_T.loc[ind, \"PearsonP_eff\"] < 0.1) and (df_eff_T.loc[ind, \"SpearmanP_eff\"] < 0.05)):\n",
    "            responder_eff.loc[ind, \"CF_p\"] = df_eff_C.loc[ind, \"SpearmanP_eff\"]\n",
    "            responder_eff.loc[ind, \"FG_p\"] = df_eff_T.loc[ind, \"SpearmanP_eff\"]\n",
    "            \n",
    "    return responder_eff"
   ]
  },
  {
   "cell_type": "code",
   "execution_count": 157,
   "metadata": {},
   "outputs": [],
   "source": [
    "def replace_sig(df):\n",
    "    for ind in df.index:\n",
    "        for col in df.columns:\n",
    "            _p = df.loc[ind, col]\n",
    "            if _p < 0.05:\n",
    "                df.loc[ind, col] = \"*\"\n",
    "            else:\n",
    "                df.loc[ind, col] = \"\"\n",
    "    return df"
   ]
  },
  {
   "cell_type": "code",
   "execution_count": 158,
   "metadata": {},
   "outputs": [],
   "source": [
    "pval_A = pval_table(resp_Acetate_C_eff, resp_Acetate_T_eff, ge, \"Acetate\")\n",
    "pval_P = pval_table(resp_Propionate_C_eff, resp_Propionate_T_eff, ge, \"Propionic acid\")\n",
    "pval_B = pval_table(resp_Butyrate_C_eff, resp_Butyrate_T_eff, ge, \"Butyric acid\")\n",
    "\n",
    "pval_A = replace_sig(pval_A)\n",
    "pval_P = replace_sig(pval_P)\n",
    "pval_B = replace_sig(pval_B)"
   ]
  },
  {
   "cell_type": "code",
   "execution_count": 160,
   "metadata": {},
   "outputs": [
    {
     "data": {
      "text/html": [
       "<div>\n",
       "<style scoped>\n",
       "    .dataframe tbody tr th:only-of-type {\n",
       "        vertical-align: middle;\n",
       "    }\n",
       "\n",
       "    .dataframe tbody tr th {\n",
       "        vertical-align: top;\n",
       "    }\n",
       "\n",
       "    .dataframe thead th {\n",
       "        text-align: right;\n",
       "    }\n",
       "</style>\n",
       "<table border=\"1\" class=\"dataframe\">\n",
       "  <thead>\n",
       "    <tr style=\"text-align: right;\">\n",
       "      <th></th>\n",
       "      <th>CF_p</th>\n",
       "      <th>FG_p</th>\n",
       "    </tr>\n",
       "  </thead>\n",
       "  <tbody>\n",
       "    <tr>\n",
       "      <th>Prevotella 9</th>\n",
       "      <td></td>\n",
       "      <td>*</td>\n",
       "    </tr>\n",
       "  </tbody>\n",
       "</table>\n",
       "</div>"
      ],
      "text/plain": [
       "             CF_p FG_p\n",
       "Prevotella 9         *"
      ]
     },
     "metadata": {},
     "output_type": "display_data"
    },
    {
     "data": {
      "text/html": [
       "<div>\n",
       "<style scoped>\n",
       "    .dataframe tbody tr th:only-of-type {\n",
       "        vertical-align: middle;\n",
       "    }\n",
       "\n",
       "    .dataframe tbody tr th {\n",
       "        vertical-align: top;\n",
       "    }\n",
       "\n",
       "    .dataframe thead th {\n",
       "        text-align: right;\n",
       "    }\n",
       "</style>\n",
       "<table border=\"1\" class=\"dataframe\">\n",
       "  <thead>\n",
       "    <tr style=\"text-align: right;\">\n",
       "      <th></th>\n",
       "      <th>CF_p</th>\n",
       "      <th>FG_p</th>\n",
       "    </tr>\n",
       "  </thead>\n",
       "  <tbody>\n",
       "    <tr>\n",
       "      <th>Bacteroides</th>\n",
       "      <td>*</td>\n",
       "      <td></td>\n",
       "    </tr>\n",
       "    <tr>\n",
       "      <th>Prevotella 9</th>\n",
       "      <td></td>\n",
       "      <td>*</td>\n",
       "    </tr>\n",
       "    <tr>\n",
       "      <th>Prevotella 2</th>\n",
       "      <td></td>\n",
       "      <td>*</td>\n",
       "    </tr>\n",
       "    <tr>\n",
       "      <th>Sutterella</th>\n",
       "      <td>*</td>\n",
       "      <td></td>\n",
       "    </tr>\n",
       "    <tr>\n",
       "      <th>Fusobacterium</th>\n",
       "      <td>*</td>\n",
       "      <td>*</td>\n",
       "    </tr>\n",
       "    <tr>\n",
       "      <th>Ruminococcaceae UCG-005</th>\n",
       "      <td></td>\n",
       "      <td>*</td>\n",
       "    </tr>\n",
       "    <tr>\n",
       "      <th>Bilophila</th>\n",
       "      <td></td>\n",
       "      <td>*</td>\n",
       "    </tr>\n",
       "    <tr>\n",
       "      <th>Tyzzerella 4</th>\n",
       "      <td>*</td>\n",
       "      <td></td>\n",
       "    </tr>\n",
       "    <tr>\n",
       "      <th>Escherichia-Shigella</th>\n",
       "      <td>*</td>\n",
       "      <td></td>\n",
       "    </tr>\n",
       "    <tr>\n",
       "      <th>[Clostridium] innocuum group</th>\n",
       "      <td>*</td>\n",
       "      <td></td>\n",
       "    </tr>\n",
       "  </tbody>\n",
       "</table>\n",
       "</div>"
      ],
      "text/plain": [
       "                             CF_p FG_p\n",
       "Bacteroides                     *     \n",
       "Prevotella 9                         *\n",
       "Prevotella 2                         *\n",
       "Sutterella                      *     \n",
       "Fusobacterium                   *    *\n",
       "Ruminococcaceae UCG-005              *\n",
       "Bilophila                            *\n",
       "Tyzzerella 4                    *     \n",
       "Escherichia-Shigella            *     \n",
       "[Clostridium] innocuum group    *     "
      ]
     },
     "metadata": {},
     "output_type": "display_data"
    },
    {
     "data": {
      "text/html": [
       "<div>\n",
       "<style scoped>\n",
       "    .dataframe tbody tr th:only-of-type {\n",
       "        vertical-align: middle;\n",
       "    }\n",
       "\n",
       "    .dataframe tbody tr th {\n",
       "        vertical-align: top;\n",
       "    }\n",
       "\n",
       "    .dataframe thead th {\n",
       "        text-align: right;\n",
       "    }\n",
       "</style>\n",
       "<table border=\"1\" class=\"dataframe\">\n",
       "  <thead>\n",
       "    <tr style=\"text-align: right;\">\n",
       "      <th></th>\n",
       "      <th>CF_p</th>\n",
       "      <th>FG_p</th>\n",
       "    </tr>\n",
       "  </thead>\n",
       "  <tbody>\n",
       "    <tr>\n",
       "      <th>Bacteroides</th>\n",
       "      <td></td>\n",
       "      <td>*</td>\n",
       "    </tr>\n",
       "    <tr>\n",
       "      <th>Prevotella 9</th>\n",
       "      <td></td>\n",
       "      <td>*</td>\n",
       "    </tr>\n",
       "    <tr>\n",
       "      <th>Prevotella 2</th>\n",
       "      <td></td>\n",
       "      <td>*</td>\n",
       "    </tr>\n",
       "    <tr>\n",
       "      <th>Ruminococcus 1</th>\n",
       "      <td></td>\n",
       "      <td>*</td>\n",
       "    </tr>\n",
       "    <tr>\n",
       "      <th>Lachnospiraceae NK4A136 group</th>\n",
       "      <td></td>\n",
       "      <td>*</td>\n",
       "    </tr>\n",
       "    <tr>\n",
       "      <th>Ruminococcaceae UCG-005</th>\n",
       "      <td></td>\n",
       "      <td>*</td>\n",
       "    </tr>\n",
       "    <tr>\n",
       "      <th>Lachnospiraceae ND3007 group</th>\n",
       "      <td>*</td>\n",
       "      <td></td>\n",
       "    </tr>\n",
       "    <tr>\n",
       "      <th>Escherichia-Shigella</th>\n",
       "      <td>*</td>\n",
       "      <td></td>\n",
       "    </tr>\n",
       "    <tr>\n",
       "      <th>[Clostridium] innocuum group</th>\n",
       "      <td></td>\n",
       "      <td>*</td>\n",
       "    </tr>\n",
       "    <tr>\n",
       "      <th>Negativibacillus</th>\n",
       "      <td>*</td>\n",
       "      <td></td>\n",
       "    </tr>\n",
       "  </tbody>\n",
       "</table>\n",
       "</div>"
      ],
      "text/plain": [
       "                              CF_p FG_p\n",
       "Bacteroides                           *\n",
       "Prevotella 9                          *\n",
       "Prevotella 2                          *\n",
       "Ruminococcus 1                        *\n",
       "Lachnospiraceae NK4A136 group         *\n",
       "Ruminococcaceae UCG-005               *\n",
       "Lachnospiraceae ND3007 group     *     \n",
       "Escherichia-Shigella             *     \n",
       "[Clostridium] innocuum group          *\n",
       "Negativibacillus                 *     "
      ]
     },
     "metadata": {},
     "output_type": "display_data"
    }
   ],
   "source": [
    "display(pval_A)\n",
    "display(pval_P)\n",
    "display(pval_B)"
   ]
  },
  {
   "cell_type": "code",
   "execution_count": 161,
   "metadata": {},
   "outputs": [],
   "source": [
    "pval_A.to_csv(\"pval.Acetate.tsv\", sep=\"\\t\")\n",
    "pval_P.to_csv(\"pval.Propionate.tsv\", sep=\"\\t\")\n",
    "pval_B.to_csv(\"pval.Butyrate.tsv\", sep=\"\\t\")"
   ]
  },
  {
   "cell_type": "code",
   "execution_count": null,
   "metadata": {},
   "outputs": [],
   "source": []
  }
 ],
 "metadata": {
  "kernelspec": {
   "display_name": "Python 3",
   "language": "python",
   "name": "python3"
  },
  "language_info": {
   "codemirror_mode": {
    "name": "ipython",
    "version": 3
   },
   "file_extension": ".py",
   "mimetype": "text/x-python",
   "name": "python",
   "nbconvert_exporter": "python",
   "pygments_lexer": "ipython3",
   "version": "3.7.6"
  }
 },
 "nbformat": 4,
 "nbformat_minor": 4
}
