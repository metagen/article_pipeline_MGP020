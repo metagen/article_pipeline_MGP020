{
 "cells": [
  {
   "cell_type": "code",
   "execution_count": 2,
   "id": "61c1487c",
   "metadata": {},
   "outputs": [
    {
     "name": "stderr",
     "output_type": "stream",
     "text": [
      "/Users/yamauchi/miniconda3/envs/bitools_py3_dev/lib/python3.7/site-packages/statsmodels/tools/_testing.py:19: FutureWarning: pandas.util.testing is deprecated. Use the functions in the public API at pandas.testing instead.\n",
      "  import pandas.util.testing as tm\n"
     ]
    }
   ],
   "source": [
    "import numpy as np\n",
    "import pandas as pd\n",
    "\n",
    "from pingouin import ancova"
   ]
  },
  {
   "cell_type": "code",
   "execution_count": 26,
   "id": "a8fc9f66",
   "metadata": {},
   "outputs": [],
   "source": [
    "## Loading data\n",
    "nm = pd.read_csv(\"../data_input/nm.all.tsv\", sep=\"\\t\", header=0, index_col=0)\n",
    "me = pd.read_csv(\"../data_input/me.all.tsv\", sep=\"\\t\", header=0, index_col=0)\n",
    "nm_diff_2w = pd.read_csv(\"../data_inter/nm.diff.0w2w.tsv\", sep=\"\\t\", header=0, index_col=0)\n",
    "me_diff_2w = pd.read_csv(\"../data_inter/me.diff.0w2w.tsv\", sep=\"\\t\", header=0, index_col=0)\n",
    "nm_diff_4w = pd.read_csv(\"../data_inter/nm.diff.0w4w.tsv\", sep=\"\\t\", header=0, index_col=0)\n",
    "me_diff_4w = pd.read_csv(\"../data_inter/me.diff.0w4w.tsv\", sep=\"\\t\", header=0, index_col=0)\n",
    "\n",
    "## Extraction of 0w samples\n",
    "me_0w = me.T.query(\"timepoint == '0w'\").T\n",
    "nm_0w = nm[me_0w.columns]\n",
    "\n",
    "## rename columns\n",
    "nm_diff_2w.columns = [e.split(\"_\")[0] for e in nm_diff_2w.columns]\n",
    "me_diff_2w.columns = [e.split(\"_\")[0] for e in me_diff_2w.columns]\n",
    "nm_diff_4w.columns = [e.split(\"_\")[0] for e in nm_diff_4w.columns]\n",
    "me_diff_4w.columns = [e.split(\"_\")[0] for e in me_diff_4w.columns]\n",
    "me_0w.columns = [e.split(\"_\")[0] for e in me_0w.columns]\n",
    "nm_0w.columns = [e.split(\"_\")[0] for e in nm_0w.columns]"
   ]
  },
  {
   "cell_type": "code",
   "execution_count": 74,
   "id": "25f138e4",
   "metadata": {},
   "outputs": [],
   "source": [
    "## Data for 2w\n",
    "nm_0w2w = pd.concat([pd.DataFrame(nm_0w.loc[\"IgA\"]).T, pd.DataFrame(nm_diff_2w.loc[\"IgA\"]).T])\n",
    "nm_0w2w.index = [\"IgA_0w\", \"IgA_2w\"]\n",
    "df_2w = pd.concat([nm_0w2w, me_0w]).T\n",
    "df_2w['IgA_0w'] = df_2w['IgA_0w'].astype(float)\n",
    "df_2w['IgA_2w'] = df_2w['IgA_2w'].astype(float)\n",
    "\n",
    "## Data for 4w\n",
    "nm_0w4w = pd.concat([pd.DataFrame(nm_0w.loc[\"IgA\"]).T, pd.DataFrame(nm_diff_4w.loc[\"IgA\"]).T])\n",
    "nm_0w4w.index = [\"IgA_0w\", \"IgA_4w\"]\n",
    "df_4w = pd.concat([nm_0w4w, me_0w]).T\n",
    "df_4w['IgA_0w'] = df_4w['IgA_0w'].astype(float)\n",
    "df_4w['IgA_4w'] = df_4w['IgA_4w'].astype(float)"
   ]
  },
  {
   "cell_type": "code",
   "execution_count": 77,
   "id": "72fd6d99",
   "metadata": {},
   "outputs": [],
   "source": [
    "!mkdir -p ../data_output/ancova"
   ]
  },
  {
   "cell_type": "code",
   "execution_count": 75,
   "id": "55c55134",
   "metadata": {},
   "outputs": [],
   "source": [
    "## ANCOVA\n",
    "res_2w = ancova(data=df_2w, dv='IgA_2w', covar='IgA_0w', between='group')\n",
    "res_4w = ancova(data=df_4w, dv='IgA_4w', covar='IgA_0w', between='group')"
   ]
  },
  {
   "cell_type": "code",
   "execution_count": 72,
   "id": "56469d7a",
   "metadata": {},
   "outputs": [
    {
     "data": {
      "text/html": [
       "<div>\n",
       "<style scoped>\n",
       "    .dataframe tbody tr th:only-of-type {\n",
       "        vertical-align: middle;\n",
       "    }\n",
       "\n",
       "    .dataframe tbody tr th {\n",
       "        vertical-align: top;\n",
       "    }\n",
       "\n",
       "    .dataframe thead th {\n",
       "        text-align: right;\n",
       "    }\n",
       "</style>\n",
       "<table border=\"1\" class=\"dataframe\">\n",
       "  <thead>\n",
       "    <tr style=\"text-align: right;\">\n",
       "      <th></th>\n",
       "      <th>Source</th>\n",
       "      <th>SS</th>\n",
       "      <th>DF</th>\n",
       "      <th>F</th>\n",
       "      <th>p-unc</th>\n",
       "    </tr>\n",
       "  </thead>\n",
       "  <tbody>\n",
       "    <tr>\n",
       "      <th>0</th>\n",
       "      <td>group</td>\n",
       "      <td>2.722579</td>\n",
       "      <td>1</td>\n",
       "      <td>0.559235</td>\n",
       "      <td>0.457308</td>\n",
       "    </tr>\n",
       "    <tr>\n",
       "      <th>1</th>\n",
       "      <td>IgA_0w</td>\n",
       "      <td>25.459593</td>\n",
       "      <td>1</td>\n",
       "      <td>5.229565</td>\n",
       "      <td>0.025523</td>\n",
       "    </tr>\n",
       "    <tr>\n",
       "      <th>2</th>\n",
       "      <td>Residual</td>\n",
       "      <td>311.577360</td>\n",
       "      <td>64</td>\n",
       "      <td>NaN</td>\n",
       "      <td>NaN</td>\n",
       "    </tr>\n",
       "  </tbody>\n",
       "</table>\n",
       "</div>"
      ],
      "text/plain": [
       "     Source          SS  DF         F     p-unc\n",
       "0     group    2.722579   1  0.559235  0.457308\n",
       "1    IgA_0w   25.459593   1  5.229565  0.025523\n",
       "2  Residual  311.577360  64       NaN       NaN"
      ]
     },
     "execution_count": 72,
     "metadata": {},
     "output_type": "execute_result"
    }
   ],
   "source": [
    "res_2w"
   ]
  },
  {
   "cell_type": "code",
   "execution_count": 73,
   "id": "cb606377",
   "metadata": {
    "scrolled": true
   },
   "outputs": [
    {
     "data": {
      "text/html": [
       "<div>\n",
       "<style scoped>\n",
       "    .dataframe tbody tr th:only-of-type {\n",
       "        vertical-align: middle;\n",
       "    }\n",
       "\n",
       "    .dataframe tbody tr th {\n",
       "        vertical-align: top;\n",
       "    }\n",
       "\n",
       "    .dataframe thead th {\n",
       "        text-align: right;\n",
       "    }\n",
       "</style>\n",
       "<table border=\"1\" class=\"dataframe\">\n",
       "  <thead>\n",
       "    <tr style=\"text-align: right;\">\n",
       "      <th></th>\n",
       "      <th>Source</th>\n",
       "      <th>SS</th>\n",
       "      <th>DF</th>\n",
       "      <th>F</th>\n",
       "      <th>p-unc</th>\n",
       "    </tr>\n",
       "  </thead>\n",
       "  <tbody>\n",
       "    <tr>\n",
       "      <th>0</th>\n",
       "      <td>group</td>\n",
       "      <td>1.331070</td>\n",
       "      <td>1</td>\n",
       "      <td>0.227442</td>\n",
       "      <td>0.635052</td>\n",
       "    </tr>\n",
       "    <tr>\n",
       "      <th>1</th>\n",
       "      <td>IgA_0w</td>\n",
       "      <td>52.322203</td>\n",
       "      <td>1</td>\n",
       "      <td>8.940368</td>\n",
       "      <td>0.003955</td>\n",
       "    </tr>\n",
       "    <tr>\n",
       "      <th>2</th>\n",
       "      <td>Residual</td>\n",
       "      <td>374.550699</td>\n",
       "      <td>64</td>\n",
       "      <td>NaN</td>\n",
       "      <td>NaN</td>\n",
       "    </tr>\n",
       "  </tbody>\n",
       "</table>\n",
       "</div>"
      ],
      "text/plain": [
       "     Source          SS  DF         F     p-unc\n",
       "0     group    1.331070   1  0.227442  0.635052\n",
       "1    IgA_0w   52.322203   1  8.940368  0.003955\n",
       "2  Residual  374.550699  64       NaN       NaN"
      ]
     },
     "execution_count": 73,
     "metadata": {},
     "output_type": "execute_result"
    }
   ],
   "source": [
    "res_4w"
   ]
  },
  {
   "cell_type": "code",
   "execution_count": 79,
   "id": "d43bc4bd",
   "metadata": {},
   "outputs": [],
   "source": [
    "res_2w.to_csv(\"../data_output/ancova/ancova.IgA.2w.tsv\", sep=\"\\t\")\n",
    "res_4w.to_csv(\"../data_output/ancova/ancova.IgA.4w.tsv\", sep=\"\\t\")"
   ]
  },
  {
   "cell_type": "code",
   "execution_count": null,
   "id": "eb30cdfc",
   "metadata": {},
   "outputs": [],
   "source": []
  }
 ],
 "metadata": {
  "kernelspec": {
   "display_name": "bitools_py3_dev",
   "language": "python",
   "name": "bitools_py3_dev"
  },
  "language_info": {
   "codemirror_mode": {
    "name": "ipython",
    "version": 3
   },
   "file_extension": ".py",
   "mimetype": "text/x-python",
   "name": "python",
   "nbconvert_exporter": "python",
   "pygments_lexer": "ipython3",
   "version": "3.7.6"
  }
 },
 "nbformat": 4,
 "nbformat_minor": 5
}
