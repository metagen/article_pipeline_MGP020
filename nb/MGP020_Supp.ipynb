{
 "cells": [
  {
   "cell_type": "code",
   "execution_count": 6,
   "id": "0a24f0a7",
   "metadata": {},
   "outputs": [],
   "source": [
    "import os\n",
    "import sys\n",
    "import numpy as np\n",
    "import pandas as pd\n",
    "import scipy.stats as st\n",
    "\n",
    "from pathlib import Path"
   ]
  },
  {
   "cell_type": "code",
   "execution_count": 7,
   "id": "1e85253e",
   "metadata": {},
   "outputs": [],
   "source": [
    "sys.path.append(os.path.join(Path().resolve(), '../../../gutan/scripts'))\n",
    "\n",
    "from utils import get_samesubject_sampleids"
   ]
  },
  {
   "cell_type": "code",
   "execution_count": 2,
   "id": "bd28e4d3",
   "metadata": {},
   "outputs": [],
   "source": [
    "def calc_log2fc(df, mdf, mkey, mval1, mval2):\n",
    "    _df = pd.DataFrame()\n",
    "    \n",
    "    (sids_mv1, sids_mv2), subject_ids = get_samesubject_sampleids(mdf, mkey, [mval1, mval2], return_subjectid=True)\n",
    "\n",
    "    for ind in df.index:\n",
    "        for sid1, sid2, sb in zip(sids_mv1, sids_mv2, subject_ids):\n",
    "            val1 = df.loc[ind, sid1]\n",
    "            val2 = df.loc[ind, sid2]\n",
    "            fc = val1/val2\n",
    "            _df.loc[ind, f\"{sb}_{mval2}{mval1}\"] = fc\n",
    "\n",
    "    _df = np.log2(_df)\n",
    "    _df = _df.fillna(0)\n",
    "    _df = _df.replace(np.inf, df.max().max())\n",
    "    _df = _df.replace(-np.inf, df.min().min())\n",
    "    return _df.mean(axis=1)"
   ]
  },
  {
   "cell_type": "code",
   "execution_count": 8,
   "id": "5b43a829",
   "metadata": {},
   "outputs": [],
   "source": [
    "p_ge_C = pd.read_csv(\"../data_output/htest_tp/ge.0.001.htest.0w.4w.C.tsv\", sep=\"\\t\", header=0, index_col=0)\n",
    "p_ge_T = pd.read_csv(\"../data_output/htest_tp/ge.0.001.htest.0w.4w.T.tsv\", sep=\"\\t\", header=0, index_col=0)\n",
    "p_ra_C = pd.read_csv(\"../data_output/htest_tp/ra.25.htest.0w.4w.C.tsv\", sep=\"\\t\", header=0, index_col=0)\n",
    "p_ra_T = pd.read_csv(\"../data_output/htest_tp/ra.25.htest.0w.4w.T.tsv\", sep=\"\\t\", header=0, index_col=0)\n",
    "\n",
    "ge = pd.read_csv(\"../data_inter/ge.0.001.tsv\", sep=\"\\t\", header=0, index_col=0)\n",
    "ra = pd.read_csv(\"../data_inter/ra.25.tsv\", sep=\"\\t\", header=0, index_col=0)\n",
    "me = pd.read_csv(\"../data_input/me.tsv\", sep=\"\\t\", header=0, index_col=0)"
   ]
  },
  {
   "cell_type": "code",
   "execution_count": 9,
   "id": "ee907347",
   "metadata": {},
   "outputs": [],
   "source": [
    "ge_C = ge.loc[:, me.loc[\"group\"]==\"C\"]\n",
    "ge_T = ge.loc[:, me.loc[\"group\"]==\"T\"]\n",
    "ra_C = ra.loc[:, me.loc[\"group\"]==\"C\"]\n",
    "ra_T = ra.loc[:, me.loc[\"group\"]==\"T\"]\n",
    "me_C = me.loc[:, me.loc[\"group\"]==\"C\"]\n",
    "me_T = me.loc[:, me.loc[\"group\"]==\"T\"]"
   ]
  },
  {
   "cell_type": "code",
   "execution_count": 10,
   "id": "dde3fad6",
   "metadata": {},
   "outputs": [
    {
     "name": "stderr",
     "output_type": "stream",
     "text": [
      "/Users/yamauchi/miniconda3/envs/bitools_py3_dev/lib/python3.7/site-packages/ipykernel_launcher.py:10: RuntimeWarning: divide by zero encountered in double_scalars\n",
      "  # Remove the CWD from sys.path while we load stuff.\n",
      "/Users/yamauchi/miniconda3/envs/bitools_py3_dev/lib/python3.7/site-packages/ipykernel_launcher.py:10: RuntimeWarning: invalid value encountered in double_scalars\n",
      "  # Remove the CWD from sys.path while we load stuff.\n",
      "/Users/yamauchi/miniconda3/envs/bitools_py3_dev/lib/python3.7/site-packages/ipykernel_launcher.py:13: RuntimeWarning: divide by zero encountered in log2\n",
      "  del sys.path[0]\n"
     ]
    },
    {
     "data": {
      "text/plain": [
       "Bacteroides                     0.285428\n",
       "Bifidobacterium                -0.545467\n",
       "Blautia                        -0.047205\n",
       "Faecalibacterium                0.128850\n",
       "Prevotella 9                    0.059938\n",
       "                                  ...   \n",
       "metagenome                      0.082791\n",
       "[Clostridium] innocuum group    0.122590\n",
       "Negativibacillus                0.247179\n",
       "Tyzzerella                      0.022906\n",
       "Romboutsia                      0.106897\n",
       "Length: 82, dtype: float64"
      ]
     },
     "execution_count": 10,
     "metadata": {},
     "output_type": "execute_result"
    }
   ],
   "source": [
    "calc_log2fc(ge, me, \"timepoint\", \"0w\", \"4w\")"
   ]
  },
  {
   "cell_type": "code",
   "execution_count": 14,
   "id": "c4d71626",
   "metadata": {},
   "outputs": [
    {
     "name": "stderr",
     "output_type": "stream",
     "text": [
      "/Users/yamauchi/miniconda3/envs/bitools_py3_dev/lib/python3.7/site-packages/ipykernel_launcher.py:10: RuntimeWarning: invalid value encountered in double_scalars\n",
      "  # Remove the CWD from sys.path while we load stuff.\n",
      "/Users/yamauchi/miniconda3/envs/bitools_py3_dev/lib/python3.7/site-packages/ipykernel_launcher.py:10: RuntimeWarning: divide by zero encountered in double_scalars\n",
      "  # Remove the CWD from sys.path while we load stuff.\n",
      "/Users/yamauchi/miniconda3/envs/bitools_py3_dev/lib/python3.7/site-packages/ipykernel_launcher.py:13: RuntimeWarning: divide by zero encountered in log2\n",
      "  del sys.path[0]\n"
     ]
    }
   ],
   "source": [
    "df_out_ge = pd.DataFrame(\n",
    "    columns = [\n",
    "        \"pval_C\",\n",
    "        \"qval_C\",\n",
    "        \"eff_C\",\n",
    "        \"pval_T\",\n",
    "        \"qval_T\",\n",
    "        \"eff_T\"\n",
    "    ]\n",
    ")\n",
    "\n",
    "df_out_ge[\"pval_C\"] = p_ge_C[\"wilcoxon\"]\n",
    "df_out_ge[\"qval_C\"] = p_ge_C[\"wilcoxon_f\"]\n",
    "df_out_ge[\"eff_C\"] = calc_log2fc(ge_C, me_C, \"timepoint\", \"0w\", \"4w\")\n",
    "df_out_ge[\"pval_T\"] = p_ge_T[\"wilcoxon\"]\n",
    "df_out_ge[\"qval_T\"] = p_ge_T[\"wilcoxon_f\"]\n",
    "df_out_ge[\"eff_T\"] = calc_log2fc(ge_T, me_T, \"timepoint\", \"0w\", \"4w\")"
   ]
  },
  {
   "cell_type": "code",
   "execution_count": 15,
   "id": "2dc454c8",
   "metadata": {},
   "outputs": [
    {
     "name": "stderr",
     "output_type": "stream",
     "text": [
      "/Users/yamauchi/miniconda3/envs/bitools_py3_dev/lib/python3.7/site-packages/ipykernel_launcher.py:10: RuntimeWarning: divide by zero encountered in double_scalars\n",
      "  # Remove the CWD from sys.path while we load stuff.\n",
      "/Users/yamauchi/miniconda3/envs/bitools_py3_dev/lib/python3.7/site-packages/ipykernel_launcher.py:10: RuntimeWarning: invalid value encountered in double_scalars\n",
      "  # Remove the CWD from sys.path while we load stuff.\n",
      "/Users/yamauchi/miniconda3/envs/bitools_py3_dev/lib/python3.7/site-packages/ipykernel_launcher.py:13: RuntimeWarning: divide by zero encountered in log2\n",
      "  del sys.path[0]\n"
     ]
    }
   ],
   "source": [
    "df_out_ra = pd.DataFrame(\n",
    "    columns = [\n",
    "        \"pval_C\",\n",
    "        \"qval_C\",\n",
    "        \"eff_C\",\n",
    "        \"pval_T\",\n",
    "        \"qval_T\",\n",
    "        \"eff_T\"\n",
    "    ]\n",
    ")\n",
    "\n",
    "df_out_ra[\"pval_C\"] = p_ra_C[\"wilcoxon\"]\n",
    "df_out_ra[\"qval_C\"] = p_ra_C[\"wilcoxon_f\"]\n",
    "df_out_ra[\"eff_C\"] = calc_log2fc(ra_C, me_C, \"timepoint\", \"0w\", \"4w\")\n",
    "df_out_ra[\"pval_T\"] = p_ra_T[\"wilcoxon\"]\n",
    "df_out_ra[\"qval_T\"] = p_ra_T[\"wilcoxon_f\"]\n",
    "df_out_ra[\"eff_T\"] = calc_log2fc(ra_T, me_T, \"timepoint\", \"0w\", \"4w\")"
   ]
  },
  {
   "cell_type": "code",
   "execution_count": 16,
   "id": "d09a53d0",
   "metadata": {},
   "outputs": [],
   "source": [
    "df_out_ge.to_csv(\"../data_output/htest_tp/htest_supp_ge.tsv\", sep=\"\\t\")\n",
    "df_out_ra.to_csv(\"../data_output/htest_tp/htest_supp_ra.tsv\", sep=\"\\t\")"
   ]
  },
  {
   "cell_type": "code",
   "execution_count": null,
   "id": "371a32f5",
   "metadata": {},
   "outputs": [],
   "source": []
  }
 ],
 "metadata": {
  "kernelspec": {
   "display_name": "bitools_py3_dev",
   "language": "python",
   "name": "bitools_py3_dev"
  },
  "language_info": {
   "codemirror_mode": {
    "name": "ipython",
    "version": 3
   },
   "file_extension": ".py",
   "mimetype": "text/x-python",
   "name": "python",
   "nbconvert_exporter": "python",
   "pygments_lexer": "ipython3",
   "version": "3.7.6"
  }
 },
 "nbformat": 4,
 "nbformat_minor": 5
}
