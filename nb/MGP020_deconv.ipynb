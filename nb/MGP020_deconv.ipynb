{
 "cells": [
  {
   "cell_type": "code",
   "execution_count": 1,
   "id": "4949d5c2",
   "metadata": {},
   "outputs": [],
   "source": [
    "import numpy as np\n",
    "import pandas as pd"
   ]
  },
  {
   "cell_type": "markdown",
   "id": "c069728c",
   "metadata": {},
   "source": [
    "## Function Definition"
   ]
  },
  {
   "cell_type": "code",
   "execution_count": 67,
   "id": "b6bd4b64",
   "metadata": {},
   "outputs": [],
   "source": [
    "def get_samesubject_sampleids(mdf, mkey, mvals, mskey=\"subject_id\", axis=1, return_subjectid=False):\n",
    "    def query_col(df, key, val):\n",
    "        return df.loc[:, df.loc[key, :] == val]\n",
    "\n",
    "    m = \"metadata table is not unique by -mk and -msk\"\n",
    "    subject_ids = sorted(set(mdf.loc[mskey, :]))\n",
    "    sample_ids = []\n",
    "    for mval in mvals:\n",
    "        _sample_ids = []\n",
    "        for subject_id in subject_ids:\n",
    "            mdf_ext_step1 = query_col(mdf, mskey, subject_id)\n",
    "            mdf_ext_step2 = query_col(mdf_ext_step1, mkey, mval)\n",
    "            if mdf_ext_step2.shape[1] != 1:\n",
    "                raise ValueError(m)\n",
    "            _sample_ids.append(mdf_ext_step2.columns[0])\n",
    "        sample_ids.append(_sample_ids)\n",
    "\n",
    "    if return_subjectid and axis == 1:\n",
    "        return sample_ids, subject_ids\n",
    "    elif not return_subjectid and axis == 1:\n",
    "        return sample_ids\n",
    "    elif return_subjectid and axis == 0:\n",
    "        return [list(x) for x in zip(*sample_ids)], subject_ids\n",
    "    elif not return_subjectid and axis == 0:\n",
    "        return [list(x) for x in zip(*sample_ids)]\n",
    "\n",
    "\n",
    "def calc_samesubject_diff(df, mdf, mkey, mv1s, mv2s, mskey=\"subject_id\"):\n",
    "    out_df = pd.DataFrame()\n",
    "    out_mdf = pd.DataFrame()\n",
    "    for mv1, mv2 in zip(mv1s, mv2s):\n",
    "        (sid_ctrls, sid_tests), subject_ids = get_samesubject_sampleids(mdf, mkey, [mv1, mv2], mskey=mskey, return_subjectid=True)\n",
    "        for sid_ctrl, sid_test, subject_id in zip(sid_ctrls, sid_tests, subject_ids):\n",
    "            new_sid = f\"{subject_id}_{mv2}{mv1}\"\n",
    "            out_df[new_sid] = df[sid_test] - df[sid_ctrl]\n",
    "\n",
    "            for ind in me.index:\n",
    "                val_ctrl = mdf.loc[ind, sid_ctrl]\n",
    "                val_test = mdf.loc[ind, sid_test]\n",
    "                if val_ctrl == val_test:\n",
    "                    out_mdf.loc[ind, new_sid] = val_ctrl\n",
    "                else:\n",
    "                    out_mdf.loc[ind, new_sid] = f\"{val_test}{val_ctrl}\"\n",
    "                    \n",
    "    return out_df, out_mdf\n",
    "\n",
    "\n",
    "def calc_samesubject_dist(df, mdf, mkey, mvals, mskey=\"subject_id\"):\n",
    "    out_df = pd.DataFrame()\n",
    "    (sid_ctrls, sid_tests), subject_ids = get_samesubject_sampleids(me, \"timepoint\", [\"0w\", \"4w\"], mskey=\"subject_id\", axis=1, return_subjectid=True)\n",
    "    for sid_ctrl, sid_test, subject_id in zip(sid_ctrls, sid_tests, subject_ids):\n",
    "        new_sid = f\"{subject_id}_4w0w\"\n",
    "        out_df.loc[\"wu\", new_sid] = df.loc[sid_ctrl, sid_test]\n",
    "    return out_df\n",
    "\n",
    "\n",
    "def extract_df(df, mdf, mkey, mvals, axis=1):\n",
    "    if mkey not in mdf.index:\n",
    "        raise ValueError(\"metadata key in not metadata\")\n",
    "\n",
    "    sample_ids = mdf.columns[mdf.loc[mkey, :].isin(mvals)]\n",
    "    if len(sample_ids) == 0:\n",
    "        raise ValueError(\"can't find sample_ids\")\n",
    "\n",
    "    if axis == 0:\n",
    "        extracted_df = df.loc[sample_ids, :]\n",
    "    if axis == 1:\n",
    "        extracted_df = df.loc[:, sample_ids]\n",
    "    if axis == 2:\n",
    "        extracted_df = df.loc[sample_ids, sample_ids]\n",
    "    extracted_mdf = mdf.loc[:, sample_ids]\n",
    "    return extracted_df, extracted_mdf"
   ]
  },
  {
   "cell_type": "markdown",
   "id": "b7d3b132",
   "metadata": {},
   "source": [
    "## Loading Data"
   ]
  },
  {
   "cell_type": "code",
   "execution_count": 68,
   "id": "01189a72",
   "metadata": {},
   "outputs": [],
   "source": [
    "ge = pd.read_csv(\"../data_input/ge.tsv\", sep=\"\\t\", header=0, index_col=0)\n",
    "co = pd.read_csv(\"../data_input/co.tsv\", sep=\"\\t\", header=0, index_col=0)\n",
    "ra = pd.read_csv(\"../data_input/ra.tsv\", sep=\"\\t\", header=0, index_col=0)\n",
    "ad = pd.read_csv(\"../data_input/ad.tsv\", sep=\"\\t\", header=0, index_col=0)\n",
    "nm = pd.read_csv(\"../data_input/nm.tsv\", sep=\"\\t\", header=0, index_col=0)\n",
    "wu = pd.read_csv(\"../data_input/wu.tsv\", sep=\"\\t\", header=0, index_col=0)\n",
    "uu = pd.read_csv(\"../data_input/uu.tsv\", sep=\"\\t\", header=0, index_col=0)\n",
    "me = pd.read_csv(\"../data_input/me.tsv\", sep=\"\\t\", header=0, index_col=0)\n",
    "nm_all = pd.read_csv(\"../data_input/nm.all.tsv\", sep=\"\\t\", header=0, index_col=0)\n",
    "me_all = pd.read_csv(\"../data_input/me.all.tsv\", sep=\"\\t\", header=0, index_col=0)"
   ]
  },
  {
   "cell_type": "code",
   "execution_count": 69,
   "id": "e2ac2a71",
   "metadata": {},
   "outputs": [],
   "source": [
    "ge_0001 = ge.loc[ge.mean(axis=1) >= 0.001]\n",
    "ra_25 = ra.loc[(ra > 0).sum(axis=1) >= ra.shape[1] * 0.25]"
   ]
  },
  {
   "cell_type": "code",
   "execution_count": 70,
   "id": "25d8c3d6",
   "metadata": {},
   "outputs": [],
   "source": [
    "ge_0001.to_csv(\"../data_inter/ge.0001.tsv\", sep=\"\\t\")\n",
    "ra_25.to_csv(\"../data_inter/ra.25.tsv\", sep=\"\\t\")"
   ]
  },
  {
   "cell_type": "markdown",
   "id": "79c56528",
   "metadata": {},
   "source": [
    "## Calculation of difference from baseline"
   ]
  },
  {
   "cell_type": "code",
   "execution_count": 71,
   "id": "0d1e6ee6",
   "metadata": {},
   "outputs": [],
   "source": [
    "ge_diff_4w, me_diff_4w = calc_samesubject_diff(ge_0001, me, \"timepoint\", [\"0w\"], [\"4w\"], \"subject_id\")\n",
    "co_diff_4w, me_diff_4w = calc_samesubject_diff(co, me, \"timepoint\", [\"0w\"], [\"4w\"], \"subject_id\")\n",
    "ra_diff_4w, me_diff_4w = calc_samesubject_diff(ra_25, me, \"timepoint\", [\"0w\"], [\"4w\"], \"subject_id\")\n",
    "ad_diff_4w, me_diff_4w = calc_samesubject_diff(ad, me, \"timepoint\", [\"0w\"], [\"4w\"], \"subject_id\")\n",
    "nm_diff_4w, me_diff_4w = calc_samesubject_diff(nm, me, \"timepoint\", [\"0w\"], [\"4w\"], \"subject_id\")\n",
    "nm_diff_2w, me_diff_2w = calc_samesubject_diff(nm_all, me_all, \"timepoint\", [\"0w\"], [\"2w\"], \"subject_id\")"
   ]
  },
  {
   "cell_type": "markdown",
   "id": "33b59e45",
   "metadata": {},
   "source": [
    "## Extraction of subjects in each group"
   ]
  },
  {
   "cell_type": "code",
   "execution_count": 72,
   "id": "1c40c690",
   "metadata": {},
   "outputs": [],
   "source": [
    "ge_C, me_C = extract_df(ge_0001, me, \"group\", [\"C\"], axis=1)\n",
    "ge_T, me_T = extract_df(ge_0001, me, \"group\", [\"T\"], axis=1)\n",
    "co_C, me_C = extract_df(co, me, \"group\", [\"C\"], axis=1)\n",
    "co_T, me_T = extract_df(co, me, \"group\", [\"T\"], axis=1)\n",
    "ra_C, me_C = extract_df(ra_25, me, \"group\", [\"C\"], axis=1)\n",
    "ra_T, me_T = extract_df(ra_25, me, \"group\", [\"T\"], axis=1)\n",
    "ad_C, me_C = extract_df(ad, me, \"group\", [\"C\"], axis=1)\n",
    "ad_T, me_T = extract_df(ad, me, \"group\", [\"T\"], axis=1)\n",
    "nm_C, me_C = extract_df(nm, me, \"group\", [\"C\"], axis=1)\n",
    "nm_T, me_T = extract_df(nm, me, \"group\", [\"T\"], axis=1)"
   ]
  },
  {
   "cell_type": "markdown",
   "id": "f6fe3987",
   "metadata": {},
   "source": [
    "## Calculation of the same subject distance"
   ]
  },
  {
   "cell_type": "code",
   "execution_count": 73,
   "id": "7d6ce38a",
   "metadata": {
    "scrolled": true
   },
   "outputs": [],
   "source": [
    "wu_dist = calc_samesubject_dist(wu, me, \"timepoint\", [\"0w\", \"4w\"], \"subject_id\")\n",
    "uu_dist = calc_samesubject_dist(uu, me, \"timepoint\", [\"0w\", \"4w\"], \"subject_id\")"
   ]
  },
  {
   "cell_type": "markdown",
   "id": "4cb901cc",
   "metadata": {},
   "source": [
    "## Exporting Data"
   ]
  },
  {
   "cell_type": "code",
   "execution_count": 76,
   "id": "542f9894",
   "metadata": {},
   "outputs": [],
   "source": [
    "ge_diff_4w.to_csv(\"../data_inter/ge.diff.0w4w.tsv\", sep=\"\\t\")\n",
    "co_diff_4w.to_csv(\"../data_inter/co.diff.0w4w.tsv\", sep=\"\\t\")\n",
    "ra_diff_4w.to_csv(\"../data_inter/ra.diff.0w4w.tsv\", sep=\"\\t\")\n",
    "ad_diff_4w.to_csv(\"../data_inter/ad.diff.0w4w.tsv\", sep=\"\\t\")\n",
    "nm_diff_4w.to_csv(\"../data_inter/nm.diff.0w4w.tsv\", sep=\"\\t\")\n",
    "nm_diff_2w.to_csv(\"../data_inter/nm.diff.0w2w.tsv\", sep=\"\\t\")\n",
    "me_diff_4w.to_csv(\"../data_inter/me.diff.0w4w.tsv\", sep=\"\\t\")\n",
    "me_diff_2w.to_csv(\"../data_inter/me.diff.0w2w.tsv\", sep=\"\\t\")\n",
    "wu_dist.to_csv(\"../data_inter/wu.diff.0w4w.tsv\", sep=\"\\t\")\n",
    "uu_dist.to_csv(\"../data_inter/uu.diff.0w4w.tsv\", sep=\"\\t\")\n",
    "ge_C.to_csv(\"../data_inter/ge.C.tsv\", sep=\"\\t\")\n",
    "ge_T.to_csv(\"../data_inter/ge.T.tsv\", sep=\"\\t\")\n",
    "co_C.to_csv(\"../data_inter/co.C.tsv\", sep=\"\\t\")\n",
    "co_T.to_csv(\"../data_inter/co.T.tsv\", sep=\"\\t\")\n",
    "ra_C.to_csv(\"../data_inter/ra.C.tsv\", sep=\"\\t\")\n",
    "ra_T.to_csv(\"../data_inter/ra.T.tsv\", sep=\"\\t\")\n",
    "ad_C.to_csv(\"../data_inter/ad.C.tsv\", sep=\"\\t\")\n",
    "ad_T.to_csv(\"../data_inter/ad.T.tsv\", sep=\"\\t\")\n",
    "nm_C.to_csv(\"../data_inter/nm.C.tsv\", sep=\"\\t\")\n",
    "nm_T.to_csv(\"../data_inter/nm.T.tsv\", sep=\"\\t\")\n",
    "me_C.to_csv(\"../data_inter/me.C.tsv\", sep=\"\\t\")\n",
    "me_T.to_csv(\"../data_inter/me.T.tsv\", sep=\"\\t\")"
   ]
  },
  {
   "cell_type": "code",
   "execution_count": null,
   "id": "de0f4b45",
   "metadata": {},
   "outputs": [],
   "source": []
  }
 ],
 "metadata": {
  "kernelspec": {
   "display_name": "bitools_py3_dev",
   "language": "python",
   "name": "bitools_py3_dev"
  },
  "language_info": {
   "codemirror_mode": {
    "name": "ipython",
    "version": 3
   },
   "file_extension": ".py",
   "mimetype": "text/x-python",
   "name": "python",
   "nbconvert_exporter": "python",
   "pygments_lexer": "ipython3",
   "version": "3.7.6"
  }
 },
 "nbformat": 4,
 "nbformat_minor": 5
}
