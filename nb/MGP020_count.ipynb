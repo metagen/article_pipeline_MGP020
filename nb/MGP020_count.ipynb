{
 "cells": [
  {
   "cell_type": "code",
   "execution_count": 1,
   "id": "274d0904",
   "metadata": {},
   "outputs": [],
   "source": [
    "import pandas as pd"
   ]
  },
  {
   "cell_type": "code",
   "execution_count": 4,
   "id": "e8c99f15",
   "metadata": {},
   "outputs": [],
   "source": [
    "ge = pd.read_csv(\"data_input/ge.tsv\", sep=\"\\t\", header=0, index_col=0)\n",
    "ra = pd.read_csv(\"data_input/ra.tsv\", sep=\"\\t\", header=0, index_col=0)\n",
    "co = pd.read_csv(\"data_input/co.tsv\", sep=\"\\t\", header=0, index_col=0)"
   ]
  },
  {
   "cell_type": "code",
   "execution_count": 5,
   "id": "cbbf1f6a",
   "metadata": {},
   "outputs": [
    {
     "name": "stdout",
     "output_type": "stream",
     "text": [
      "(231, 134)\n",
      "(481, 134)\n",
      "(119, 134)\n"
     ]
    }
   ],
   "source": [
    "print(ge.shape)\n",
    "print(ra.shape)\n",
    "print(co.shape)"
   ]
  },
  {
   "cell_type": "code",
   "execution_count": null,
   "id": "6d301952",
   "metadata": {},
   "outputs": [],
   "source": []
  }
 ],
 "metadata": {
  "kernelspec": {
   "display_name": "bitools_py3_dev",
   "language": "python",
   "name": "bitools_py3_dev"
  },
  "language_info": {
   "codemirror_mode": {
    "name": "ipython",
    "version": 3
   },
   "file_extension": ".py",
   "mimetype": "text/x-python",
   "name": "python",
   "nbconvert_exporter": "python",
   "pygments_lexer": "ipython3",
   "version": "3.7.6"
  }
 },
 "nbformat": 4,
 "nbformat_minor": 5
}
