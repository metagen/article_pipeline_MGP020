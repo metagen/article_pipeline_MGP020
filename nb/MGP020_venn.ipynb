{
 "cells": [
  {
   "cell_type": "code",
   "execution_count": 1,
   "id": "1fed13d3",
   "metadata": {
    "tags": []
   },
   "outputs": [
    {
     "name": "stderr",
     "output_type": "stream",
     "text": [
      "/Users/yamauchi/miniconda3/envs/bitools_py3_dev/lib/python3.7/site-packages/statsmodels/tools/_testing.py:19: FutureWarning: pandas.util.testing is deprecated. Use the functions in the public API at pandas.testing instead.\n",
      "  import pandas.util.testing as tm\n"
     ]
    }
   ],
   "source": [
    "import os\n",
    "import sys\n",
    "import warnings\n",
    "import pandas as pd\n",
    "import numpy as np\n",
    "import matplotlib.pyplot as plt\n",
    "import seaborn as sns\n",
    "\n",
    "from pathlib import Path\n",
    "from matplotlib_venn import venn2\n",
    "\n",
    "%matplotlib inline\n",
    "warnings.filterwarnings(\"ignore\")"
   ]
  },
  {
   "cell_type": "code",
   "execution_count": 2,
   "id": "3dfc8245",
   "metadata": {
    "tags": []
   },
   "outputs": [],
   "source": [
    "sys.path.append(os.path.join(Path().resolve(), '../../../gutan/scripts'))"
   ]
  },
  {
   "cell_type": "code",
   "execution_count": 3,
   "id": "087ffd0b",
   "metadata": {
    "tags": []
   },
   "outputs": [],
   "source": [
    "from utils import get_samesubject_sampleids"
   ]
  },
  {
   "cell_type": "code",
   "execution_count": 4,
   "id": "230bda5e",
   "metadata": {
    "tags": []
   },
   "outputs": [],
   "source": [
    "p_ge_C = pd.read_csv(\"../data_output/htest_tp/ge.0.001.htest.0w.4w.C.tsv\", sep=\"\\t\", header=0, index_col=0)\n",
    "p_ge_T = pd.read_csv(\"../data_output/htest_tp/ge.0.001.htest.0w.4w.T.tsv\", sep=\"\\t\", header=0, index_col=0)\n",
    "p_ra_C = pd.read_csv(\"../data_output/htest_tp/ra.25.htest.0w.4w.C.tsv\", sep=\"\\t\", header=0, index_col=0)\n",
    "p_ra_T = pd.read_csv(\"../data_output/htest_tp/ra.25.htest.0w.4w.T.tsv\", sep=\"\\t\", header=0, index_col=0)\n",
    "\n",
    "ge = pd.read_csv(\"../data_inter/ge.0.001.tsv\", sep=\"\\t\", header=0, index_col=0)\n",
    "ra = pd.read_csv(\"../data_inter/ra.25.tsv\", sep=\"\\t\", header=0, index_col=0)\n",
    "me = pd.read_csv(\"../data_input/me.tsv\", sep=\"\\t\", header=0, index_col=0)"
   ]
  },
  {
   "cell_type": "markdown",
   "id": "e2d5bd17",
   "metadata": {},
   "source": [
    "# volcano plot"
   ]
  },
  {
   "cell_type": "code",
   "execution_count": 15,
   "id": "6e268a68-b018-4ea0-a97d-3bf5573b050a",
   "metadata": {
    "tags": []
   },
   "outputs": [],
   "source": [
    "plt.rcParams[\"font.family\"] = \"Arial\""
   ]
  },
  {
   "cell_type": "code",
   "execution_count": 25,
   "id": "d4744c1e",
   "metadata": {
    "tags": []
   },
   "outputs": [],
   "source": [
    "def plot_volcano(xs, ys, indexes, path_out_pdf, annotate=False):\n",
    "    plt.figure(figsize=(6, 6))\n",
    "    plt.scatter(xs, ys)\n",
    "    lim = max(abs(xs.min()), xs.max()) * 1.1\n",
    "    plt.xlim(-lim, lim)\n",
    "    plt.tick_params(top='off', right='off')\n",
    "    plt.gca().spines['right'].set_visible(False)\n",
    "    plt.gca().spines['top'].set_visible(False)\n",
    "    if annotate:\n",
    "        for x, y, ind in zip(xs, ys, indexes):\n",
    "            if y >= -np.log10(0.05):\n",
    "                plt.annotate(ind, xy=(x, y))\n",
    "    ymin_old, ymax_old = plt.ylim()\n",
    "    xmin_old, xmax_old = plt.xlim()\n",
    "    plt.hlines(y=-np.log10(0.05), xmin=xmin_old, xmax=xmax_old, linestyles='dashed')\n",
    "    plt.vlines(x=0, ymin=-0.1, ymax=ymax_old, linestyles='dashed')\n",
    "    plt.gca().set_xlim([xmin_old, xmax_old])\n",
    "    plt.gca().set_ylim([-0.1, ymax_old])\n",
    "    plt.savefig(path_out_pdf)\n",
    "#     plt.clf()\n",
    "    plt.show()\n",
    "\n",
    "def calc_log2fc(df, mdf, mkey, mval1, mval2):\n",
    "    _df = pd.DataFrame()\n",
    "    \n",
    "    (sids_mv1, sids_mv2), subject_ids = get_samesubject_sampleids(mdf, mkey, [mval1, mval2], return_subjectid=True)\n",
    "\n",
    "    for ind in df.index:\n",
    "        for sid1, sid2, sb in zip(sids_mv1, sids_mv2, subject_ids):\n",
    "            val1 = df.loc[ind, sid1]\n",
    "            val2 = df.loc[ind, sid2]\n",
    "            fc = val1/val2\n",
    "            _df.loc[ind, f\"{sb}_{mval2}{mval1}\"] = fc\n",
    "\n",
    "    _df = np.log2(_df)\n",
    "    _df = _df.fillna(0)\n",
    "    _df = _df.replace(np.inf, df.max().max())\n",
    "    _df = _df.replace(-np.inf, df.min().min())\n",
    "    return _df.mean(axis=1)\n",
    "\n",
    "def calc_hedges_g(df, mdf, mkey, mval1, mval2):\n",
    "    s_out = pd.Series()\n",
    "    for ind in df.index:\n",
    "        vals1 = df.loc[ind, mdf.loc[mkey]==mval1].values\n",
    "        vals2 = df.loc[ind, mdf.loc[mkey]==mval2].values\n",
    "\n",
    "        n1 = len(vals1)\n",
    "        n2 = len(vals2)\n",
    "        s1 = np.std(vals1)\n",
    "        s2 = np.std(vals2)\n",
    "\n",
    "        s = np.sqrt(((n1 - 1) * s1 + (n2 - 1) * s2) / (n1 + n2 - 2))\n",
    "        d = (np.mean(vals2) - np.mean(vals1)) / s\n",
    "        g = (1 - (3 / (4 * (n1 + n2 - 9)))) * d\n",
    "        \n",
    "        s_out.loc[ind] = g\n",
    "    \n",
    "    return s_out"
   ]
  },
  {
   "cell_type": "code",
   "execution_count": 26,
   "id": "af819458-adeb-4f2d-bd22-57e98485298e",
   "metadata": {
    "tags": []
   },
   "outputs": [
    {
     "data": {
      "image/png": "[encoded data removed]",
      "text/plain": [
       "<Figure size 432x432 with 1 Axes>"
      ]
     },
     "metadata": {
      "needs_background": "light"
     },
     "output_type": "display_data"
    }
   ],
   "source": [
    "input_file = \"../data_inter/ge.0.001.T.tsv\"\n",
    "metadata = \"../data_inter/me.T.tsv\"\n",
    "path_out_pdf1 = \"../data_output/htest_summary/volcanoplot.ge.0.001.T.hedges_g.2.pdf\"\n",
    "# path_out_pdf2 = \"../data_output/htest_summary/volcanoplot.ra.25.C.log2fc.pdf\"\n",
    "mkey = \"timepoint\"\n",
    "mval1 = \"0w\"\n",
    "mval2 = \"4w\"\n",
    "\n",
    "df = pd.read_csv(input_file, sep=\"\\t\", header=0, index_col=0)\n",
    "mdf = pd.read_csv(metadata, sep=\"\\t\", header=0, index_col=0)\n",
    "\n",
    "df_plot = pd.DataFrame()\n",
    "\n",
    "df_plot[\"p_value\"] = -np.log10(p_ge_T[\"wilcoxon\"])\n",
    "\n",
    "df_plot[\"effect_size\"] = calc_hedges_g(df, mdf, mkey, mval1, mval2)\n",
    "plot_volcano(df_plot[\"effect_size\"], df_plot[\"p_value\"], df.index, path_out_pdf1, annotate=True)\n",
    "\n",
    "# df_plot[\"effect_size\"] = calc_log2fc(df, mdf, mkey, mval1, mval2)\n",
    "# plot_volcano(df_plot[\"effect_size\"], df_plot[\"p_value\"], df.index, path_out_pdf2)"
   ]
  },
  {
   "cell_type": "code",
   "execution_count": 27,
   "id": "ec779519",
   "metadata": {
    "tags": []
   },
   "outputs": [
    {
     "data": {
      "image/png": "[encoded data removed]",
      "text/plain": [
       "<Figure size 432x432 with 1 Axes>"
      ]
     },
     "metadata": {
      "needs_background": "light"
     },
     "output_type": "display_data"
    }
   ],
   "source": [
    "input_file = \"../data_inter/ge.0.001.C.tsv\"\n",
    "metadata = \"../data_inter/me.C.tsv\"\n",
    "path_out_pdf1 = \"../data_output/htest_summary/volcanoplot.ge.0.001.C.hedges_g.2.pdf\"\n",
    "# path_out_pdf2 = \"../data_output/htest_summary/volcanoplot.ra.25.C.log2fc.pdf\"\n",
    "mkey = \"timepoint\"\n",
    "mval1 = \"0w\"\n",
    "mval2 = \"4w\"\n",
    "\n",
    "df = pd.read_csv(input_file, sep=\"\\t\", header=0, index_col=0)\n",
    "mdf = pd.read_csv(metadata, sep=\"\\t\", header=0, index_col=0)\n",
    "\n",
    "df_plot = pd.DataFrame()\n",
    "\n",
    "df_plot[\"p_value\"] = -np.log10(p_ge_C[\"wilcoxon\"])\n",
    "\n",
    "df_plot[\"effect_size\"] = calc_hedges_g(df, mdf, mkey, mval1, mval2)\n",
    "plot_volcano(df_plot[\"effect_size\"], df_plot[\"p_value\"], df.index, path_out_pdf1, annotate=True)\n",
    "\n",
    "# df_plot[\"effect_size\"] = calc_log2fc(df, mdf, mkey, mval1, mval2)\n",
    "# plot_volcano(df_plot[\"effect_size\"], df_plot[\"p_value\"], df.index, path_out_pdf2)"
   ]
  },
  {
   "cell_type": "code",
   "execution_count": 28,
   "id": "57bc8b67-7137-4321-a90d-deb1a250b3ca",
   "metadata": {
    "tags": []
   },
   "outputs": [
    {
     "data": {
      "image/png": "[encoded data removed]",
      "text/plain": [
       "<Figure size 432x432 with 1 Axes>"
      ]
     },
     "metadata": {
      "needs_background": "light"
     },
     "output_type": "display_data"
    }
   ],
   "source": [
    "input_file = \"../data_inter/ra.25.C.tsv\"\n",
    "metadata = \"../data_inter/me.C.tsv\"\n",
    "path_out_pdf1 = \"../data_output/htest_summary/volcanoplot.ra.25.C.hedges_g.2.pdf\"\n",
    "# path_out_pdf2 = \"../data_output/htest_summary/volcanoplot.ra.25.C.log2fc.pdf\"\n",
    "mkey = \"timepoint\"\n",
    "mval1 = \"0w\"\n",
    "mval2 = \"4w\"\n",
    "\n",
    "df = pd.read_csv(input_file, sep=\"\\t\", header=0, index_col=0)\n",
    "mdf = pd.read_csv(metadata, sep=\"\\t\", header=0, index_col=0)\n",
    "\n",
    "df_plot = pd.DataFrame()\n",
    "\n",
    "df_plot[\"p_value\"] = -np.log10(p_ra_C[\"wilcoxon\"])\n",
    "\n",
    "df_plot[\"effect_size\"] = calc_hedges_g(df, mdf, mkey, mval1, mval2)\n",
    "plot_volcano(df_plot[\"effect_size\"], df_plot[\"p_value\"], df.index, path_out_pdf1, annotate=True)\n",
    "\n",
    "# df_plot[\"effect_size\"] = calc_log2fc(df, mdf, mkey, mval1, mval2)\n",
    "# plot_volcano(df_plot[\"effect_size\"], df_plot[\"p_value\"], df.index, path_out_pdf2)"
   ]
  },
  {
   "cell_type": "code",
   "execution_count": 29,
   "id": "bf920ead-69b2-484a-89df-b48f6f29b47c",
   "metadata": {
    "tags": []
   },
   "outputs": [
    {
     "data": {
      "image/png": "[encoded data removed]",
      "text/plain": [
       "<Figure size 432x432 with 1 Axes>"
      ]
     },
     "metadata": {
      "needs_background": "light"
     },
     "output_type": "display_data"
    }
   ],
   "source": [
    "input_file = \"../data_inter/ra.25.T.tsv\"\n",
    "metadata = \"../data_inter/me.T.tsv\"\n",
    "path_out_pdf1 = \"../data_output/htest_summary/volcanoplot.ra.25.T.hedges_g.2.pdf\"\n",
    "# path_out_pdf2 = \"../data_output/htest_summary/volcanoplot.ra.25.C.log2fc.pdf\"\n",
    "mkey = \"timepoint\"\n",
    "mval1 = \"0w\"\n",
    "mval2 = \"4w\"\n",
    "\n",
    "df = pd.read_csv(input_file, sep=\"\\t\", header=0, index_col=0)\n",
    "mdf = pd.read_csv(metadata, sep=\"\\t\", header=0, index_col=0)\n",
    "\n",
    "df_plot = pd.DataFrame()\n",
    "\n",
    "df_plot[\"p_value\"] = -np.log10(p_ra_T[\"wilcoxon\"])\n",
    "\n",
    "df_plot[\"effect_size\"] = calc_hedges_g(df, mdf, mkey, mval1, mval2)\n",
    "plot_volcano(df_plot[\"effect_size\"], df_plot[\"p_value\"], df.index, path_out_pdf1, annotate=True)\n",
    "\n",
    "# df_plot[\"effect_size\"] = calc_log2fc(df, mdf, mkey, mval1, mval2)\n",
    "# plot_volcano(df_plot[\"effect_size\"], df_plot[\"p_value\"], df.index, path_out_pdf2)"
   ]
  },
  {
   "cell_type": "code",
   "execution_count": 30,
   "id": "ba783b34-17aa-47a7-a8f5-646433cb47de",
   "metadata": {
    "tags": []
   },
   "outputs": [
    {
     "data": {
      "text/html": [
       "<div>\n",
       "<style scoped>\n",
       "    .dataframe tbody tr th:only-of-type {\n",
       "        vertical-align: middle;\n",
       "    }\n",
       "\n",
       "    .dataframe tbody tr th {\n",
       "        vertical-align: top;\n",
       "    }\n",
       "\n",
       "    .dataframe thead th {\n",
       "        text-align: right;\n",
       "    }\n",
       "</style>\n",
       "<table border=\"1\" class=\"dataframe\">\n",
       "  <thead>\n",
       "    <tr style=\"text-align: right;\">\n",
       "      <th></th>\n",
       "      <th>welch</th>\n",
       "      <th>mann_whitney</th>\n",
       "      <th>wilcoxon</th>\n",
       "      <th>pair_t</th>\n",
       "      <th>welch_f</th>\n",
       "      <th>mann_whitney_f</th>\n",
       "      <th>wilcoxon_f</th>\n",
       "      <th>pair_t_f</th>\n",
       "      <th>mann_whitneyGL</th>\n",
       "      <th>wilcoxonGL</th>\n",
       "    </tr>\n",
       "  </thead>\n",
       "  <tbody>\n",
       "    <tr>\n",
       "      <th>2'-Deoxycytidine</th>\n",
       "      <td>6.929200e-03</td>\n",
       "      <td>6.069970e-03</td>\n",
       "      <td>1.644006e-03</td>\n",
       "      <td>1.699280e-03</td>\n",
       "      <td>2.702388e-01</td>\n",
       "      <td>1.721664e-01</td>\n",
       "      <td>0.036638</td>\n",
       "      <td>5.890836e-02</td>\n",
       "      <td>L</td>\n",
       "      <td>L</td>\n",
       "    </tr>\n",
       "    <tr>\n",
       "      <th>2-Carboxybenzaldehyde</th>\n",
       "      <td>1.194794e-09</td>\n",
       "      <td>3.940156e-09</td>\n",
       "      <td>1.821530e-05</td>\n",
       "      <td>1.194794e-09</td>\n",
       "      <td>3.727757e-07</td>\n",
       "      <td>3.073322e-07</td>\n",
       "      <td>0.001137</td>\n",
       "      <td>3.727757e-07</td>\n",
       "      <td>G</td>\n",
       "      <td>G</td>\n",
       "    </tr>\n",
       "    <tr>\n",
       "      <th>4-Pyridoxic acid</th>\n",
       "      <td>7.406533e-02</td>\n",
       "      <td>1.154715e-05</td>\n",
       "      <td>5.186422e-05</td>\n",
       "      <td>8.156229e-05</td>\n",
       "      <td>9.520766e-01</td>\n",
       "      <td>5.146729e-04</td>\n",
       "      <td>0.002697</td>\n",
       "      <td>6.361858e-03</td>\n",
       "      <td>G</td>\n",
       "      <td>G</td>\n",
       "    </tr>\n",
       "    <tr>\n",
       "      <th>Decanoic acid</th>\n",
       "      <td>4.316009e-05</td>\n",
       "      <td>2.367997e-10</td>\n",
       "      <td>5.388791e-07</td>\n",
       "      <td>3.795845e-05</td>\n",
       "      <td>6.732974e-03</td>\n",
       "      <td>7.388151e-08</td>\n",
       "      <td>0.000101</td>\n",
       "      <td>5.921518e-03</td>\n",
       "      <td>G</td>\n",
       "      <td>G</td>\n",
       "    </tr>\n",
       "    <tr>\n",
       "      <th>Lauric acid</th>\n",
       "      <td>3.358642e-04</td>\n",
       "      <td>2.111021e-09</td>\n",
       "      <td>6.484786e-07</td>\n",
       "      <td>3.258414e-04</td>\n",
       "      <td>2.619741e-02</td>\n",
       "      <td>2.195461e-07</td>\n",
       "      <td>0.000101</td>\n",
       "      <td>1.452322e-02</td>\n",
       "      <td>G</td>\n",
       "      <td>G</td>\n",
       "    </tr>\n",
       "    <tr>\n",
       "      <th>Myristic acid</th>\n",
       "      <td>1.043471e-01</td>\n",
       "      <td>6.952364e-05</td>\n",
       "      <td>2.976464e-06</td>\n",
       "      <td>1.034457e-01</td>\n",
       "      <td>9.520766e-01</td>\n",
       "      <td>2.711422e-03</td>\n",
       "      <td>0.000232</td>\n",
       "      <td>6.688197e-01</td>\n",
       "      <td>G</td>\n",
       "      <td>G</td>\n",
       "    </tr>\n",
       "    <tr>\n",
       "      <th>N-Methylalanine</th>\n",
       "      <td>7.749497e-02</td>\n",
       "      <td>7.055900e-02</td>\n",
       "      <td>1.284816e-03</td>\n",
       "      <td>3.005726e-03</td>\n",
       "      <td>9.520766e-01</td>\n",
       "      <td>7.591175e-01</td>\n",
       "      <td>0.030836</td>\n",
       "      <td>9.377865e-02</td>\n",
       "      <td>G</td>\n",
       "      <td>G</td>\n",
       "    </tr>\n",
       "    <tr>\n",
       "      <th>Nicotinamide</th>\n",
       "      <td>2.027482e-02</td>\n",
       "      <td>2.830856e-02</td>\n",
       "      <td>1.934760e-03</td>\n",
       "      <td>1.611965e-03</td>\n",
       "      <td>5.750675e-01</td>\n",
       "      <td>4.906817e-01</td>\n",
       "      <td>0.040243</td>\n",
       "      <td>5.890836e-02</td>\n",
       "      <td>L</td>\n",
       "      <td>L</td>\n",
       "    </tr>\n",
       "    <tr>\n",
       "      <th>Octanoic acid</th>\n",
       "      <td>6.635763e-05</td>\n",
       "      <td>1.950819e-09</td>\n",
       "      <td>1.469201e-06</td>\n",
       "      <td>7.350847e-05</td>\n",
       "      <td>6.901194e-03</td>\n",
       "      <td>2.195461e-07</td>\n",
       "      <td>0.000153</td>\n",
       "      <td>6.361858e-03</td>\n",
       "      <td>G</td>\n",
       "      <td>G</td>\n",
       "    </tr>\n",
       "    <tr>\n",
       "      <th>Pelargonic acid</th>\n",
       "      <td>4.793892e-02</td>\n",
       "      <td>1.481991e-02</td>\n",
       "      <td>8.074799e-04</td>\n",
       "      <td>2.280385e-02</td>\n",
       "      <td>9.520766e-01</td>\n",
       "      <td>3.545160e-01</td>\n",
       "      <td>0.023777</td>\n",
       "      <td>3.557401e-01</td>\n",
       "      <td>G</td>\n",
       "      <td>G</td>\n",
       "    </tr>\n",
       "    <tr>\n",
       "      <th>Phthalic acid</th>\n",
       "      <td>8.332042e-03</td>\n",
       "      <td>5.911237e-03</td>\n",
       "      <td>1.113801e-03</td>\n",
       "      <td>2.395050e-04</td>\n",
       "      <td>2.888441e-01</td>\n",
       "      <td>1.721664e-01</td>\n",
       "      <td>0.028959</td>\n",
       "      <td>1.245426e-02</td>\n",
       "      <td>L</td>\n",
       "      <td>L</td>\n",
       "    </tr>\n",
       "    <tr>\n",
       "      <th>Terephthalic acid</th>\n",
       "      <td>2.804474e-03</td>\n",
       "      <td>1.956398e-06</td>\n",
       "      <td>1.816118e-04</td>\n",
       "      <td>4.048539e-03</td>\n",
       "      <td>1.458327e-01</td>\n",
       "      <td>1.220793e-04</td>\n",
       "      <td>0.007651</td>\n",
       "      <td>1.052620e-01</td>\n",
       "      <td>G</td>\n",
       "      <td>G</td>\n",
       "    </tr>\n",
       "    <tr>\n",
       "      <th>Triethanolamine</th>\n",
       "      <td>2.421464e-02</td>\n",
       "      <td>4.456232e-06</td>\n",
       "      <td>5.626835e-04</td>\n",
       "      <td>3.184475e-02</td>\n",
       "      <td>6.295807e-01</td>\n",
       "      <td>2.317240e-04</td>\n",
       "      <td>0.019506</td>\n",
       "      <td>3.821369e-01</td>\n",
       "      <td>L</td>\n",
       "      <td>L</td>\n",
       "    </tr>\n",
       "    <tr>\n",
       "      <th>Undecanoic acid</th>\n",
       "      <td>2.266433e-03</td>\n",
       "      <td>8.008847e-03</td>\n",
       "      <td>1.961882e-04</td>\n",
       "      <td>1.129235e-04</td>\n",
       "      <td>1.414254e-01</td>\n",
       "      <td>2.082300e-01</td>\n",
       "      <td>0.007651</td>\n",
       "      <td>7.046425e-03</td>\n",
       "      <td>G</td>\n",
       "      <td>G</td>\n",
       "    </tr>\n",
       "    <tr>\n",
       "      <th>γ-Glu-Asp</th>\n",
       "      <td>5.301956e-02</td>\n",
       "      <td>5.406323e-02</td>\n",
       "      <td>8.382848e-04</td>\n",
       "      <td>4.420065e-03</td>\n",
       "      <td>9.520766e-01</td>\n",
       "      <td>7.333795e-01</td>\n",
       "      <td>0.023777</td>\n",
       "      <td>1.060816e-01</td>\n",
       "      <td>L</td>\n",
       "      <td>L</td>\n",
       "    </tr>\n",
       "  </tbody>\n",
       "</table>\n",
       "</div>"
      ],
      "text/plain": [
       "                              welch  mann_whitney      wilcoxon        pair_t  \\\n",
       "2'-Deoxycytidine       6.929200e-03  6.069970e-03  1.644006e-03  1.699280e-03   \n",
       "2-Carboxybenzaldehyde  1.194794e-09  3.940156e-09  1.821530e-05  1.194794e-09   \n",
       "4-Pyridoxic acid       7.406533e-02  1.154715e-05  5.186422e-05  8.156229e-05   \n",
       "Decanoic acid          4.316009e-05  2.367997e-10  5.388791e-07  3.795845e-05   \n",
       "Lauric acid            3.358642e-04  2.111021e-09  6.484786e-07  3.258414e-04   \n",
       "Myristic acid          1.043471e-01  6.952364e-05  2.976464e-06  1.034457e-01   \n",
       "N-Methylalanine        7.749497e-02  7.055900e-02  1.284816e-03  3.005726e-03   \n",
       "Nicotinamide           2.027482e-02  2.830856e-02  1.934760e-03  1.611965e-03   \n",
       "Octanoic acid          6.635763e-05  1.950819e-09  1.469201e-06  7.350847e-05   \n",
       "Pelargonic acid        4.793892e-02  1.481991e-02  8.074799e-04  2.280385e-02   \n",
       "Phthalic acid          8.332042e-03  5.911237e-03  1.113801e-03  2.395050e-04   \n",
       "Terephthalic acid      2.804474e-03  1.956398e-06  1.816118e-04  4.048539e-03   \n",
       "Triethanolamine        2.421464e-02  4.456232e-06  5.626835e-04  3.184475e-02   \n",
       "Undecanoic acid        2.266433e-03  8.008847e-03  1.961882e-04  1.129235e-04   \n",
       "γ-Glu-Asp              5.301956e-02  5.406323e-02  8.382848e-04  4.420065e-03   \n",
       "\n",
       "                            welch_f  mann_whitney_f  wilcoxon_f      pair_t_f  \\\n",
       "2'-Deoxycytidine       2.702388e-01    1.721664e-01    0.036638  5.890836e-02   \n",
       "2-Carboxybenzaldehyde  3.727757e-07    3.073322e-07    0.001137  3.727757e-07   \n",
       "4-Pyridoxic acid       9.520766e-01    5.146729e-04    0.002697  6.361858e-03   \n",
       "Decanoic acid          6.732974e-03    7.388151e-08    0.000101  5.921518e-03   \n",
       "Lauric acid            2.619741e-02    2.195461e-07    0.000101  1.452322e-02   \n",
       "Myristic acid          9.520766e-01    2.711422e-03    0.000232  6.688197e-01   \n",
       "N-Methylalanine        9.520766e-01    7.591175e-01    0.030836  9.377865e-02   \n",
       "Nicotinamide           5.750675e-01    4.906817e-01    0.040243  5.890836e-02   \n",
       "Octanoic acid          6.901194e-03    2.195461e-07    0.000153  6.361858e-03   \n",
       "Pelargonic acid        9.520766e-01    3.545160e-01    0.023777  3.557401e-01   \n",
       "Phthalic acid          2.888441e-01    1.721664e-01    0.028959  1.245426e-02   \n",
       "Terephthalic acid      1.458327e-01    1.220793e-04    0.007651  1.052620e-01   \n",
       "Triethanolamine        6.295807e-01    2.317240e-04    0.019506  3.821369e-01   \n",
       "Undecanoic acid        1.414254e-01    2.082300e-01    0.007651  7.046425e-03   \n",
       "γ-Glu-Asp              9.520766e-01    7.333795e-01    0.023777  1.060816e-01   \n",
       "\n",
       "                      mann_whitneyGL wilcoxonGL  \n",
       "2'-Deoxycytidine                   L          L  \n",
       "2-Carboxybenzaldehyde              G          G  \n",
       "4-Pyridoxic acid                   G          G  \n",
       "Decanoic acid                      G          G  \n",
       "Lauric acid                        G          G  \n",
       "Myristic acid                      G          G  \n",
       "N-Methylalanine                    G          G  \n",
       "Nicotinamide                       L          L  \n",
       "Octanoic acid                      G          G  \n",
       "Pelargonic acid                    G          G  \n",
       "Phthalic acid                      L          L  \n",
       "Terephthalic acid                  G          G  \n",
       "Triethanolamine                    L          L  \n",
       "Undecanoic acid                    G          G  \n",
       "γ-Glu-Asp                          L          L  "
      ]
     },
     "execution_count": 30,
     "metadata": {},
     "output_type": "execute_result"
    }
   ],
   "source": [
    "p_ra_T.query(\"wilcoxon_f < 0.05\")"
   ]
  },
  {
   "cell_type": "code",
   "execution_count": null,
   "id": "57f64b0a",
   "metadata": {},
   "outputs": [],
   "source": []
  },
  {
   "cell_type": "markdown",
   "id": "9b990e1c",
   "metadata": {},
   "source": [
    "# ベン図"
   ]
  },
  {
   "cell_type": "code",
   "execution_count": 8,
   "id": "319d5253",
   "metadata": {},
   "outputs": [],
   "source": [
    "p_ge_C = pd.read_csv(\"../data_output/htest_tp/ge.0.001.htest.0w.4w.C.tsv\", sep=\"\\t\", header=0, index_col=0)\n",
    "p_ge_T = pd.read_csv(\"../data_output/htest_tp/ge.0.001.htest.0w.4w.T.tsv\", sep=\"\\t\", header=0, index_col=0)\n",
    "p_ra_C = pd.read_csv(\"../data_output/htest_tp/ra.25.htest.0w.4w.C.tsv\", sep=\"\\t\", header=0, index_col=0)\n",
    "p_ra_T = pd.read_csv(\"../data_output/htest_tp/ra.25.htest.0w.4w.T.tsv\", sep=\"\\t\", header=0, index_col=0)"
   ]
  },
  {
   "cell_type": "code",
   "execution_count": 9,
   "id": "dba14ca0",
   "metadata": {},
   "outputs": [],
   "source": [
    "l_ge_sG_C = p_ge_C.query(\"wilcoxon < 0.05\").query(\"wilcoxonGL == 'G'\").index\n",
    "l_ge_sG_T = p_ge_T.query(\"wilcoxon < 0.05\").query(\"wilcoxonGL == 'G'\").index\n",
    "l_ra_sG_C = p_ra_C.query(\"wilcoxon < 0.05\").query(\"wilcoxonGL == 'G'\").index\n",
    "l_ra_sG_T = p_ra_T.query(\"wilcoxon < 0.05\").query(\"wilcoxonGL == 'G'\").index\n",
    "\n",
    "l_ge_sL_C = p_ge_C.query(\"wilcoxon < 0.05\").query(\"wilcoxonGL == 'L'\").index\n",
    "l_ge_sL_T = p_ge_T.query(\"wilcoxon < 0.05\").query(\"wilcoxonGL == 'L'\").index\n",
    "l_ra_sL_C = p_ra_C.query(\"wilcoxon < 0.05\").query(\"wilcoxonGL == 'L'\").index\n",
    "l_ra_sL_T = p_ra_T.query(\"wilcoxon < 0.05\").query(\"wilcoxonGL == 'L'\").index"
   ]
  },
  {
   "cell_type": "code",
   "execution_count": 11,
   "id": "57f960b9",
   "metadata": {},
   "outputs": [],
   "source": [
    "l_ge_sG_both = set(l_ge_sG_C) & set(l_ge_sG_T)\n",
    "l_ge_sG_C_only = set(l_ge_sG_C) ^ l_ge_sG_both\n",
    "l_ge_sG_T_only = set(l_ge_sG_T) ^ l_ge_sG_both"
   ]
  },
  {
   "cell_type": "code",
   "execution_count": 12,
   "id": "70592349",
   "metadata": {},
   "outputs": [],
   "source": [
    "l_ge_sL_both = set(l_ge_sL_C) & set(l_ge_sL_T)\n",
    "l_ge_sL_C_only = set(l_ge_sL_C) ^ l_ge_sL_both\n",
    "l_ge_sL_T_only = set(l_ge_sL_T) ^ l_ge_sL_both"
   ]
  },
  {
   "cell_type": "code",
   "execution_count": 32,
   "id": "5b17492a",
   "metadata": {},
   "outputs": [
    {
     "name": "stdout",
     "output_type": "stream",
     "text": [
      "{'Collinsella'}\n",
      "{'Ruminococcus 2', 'Subdoligranulum', 'Bifidobacterium'}\n",
      "{'Ruminiclostridium 5', 'Mitsuokella', 'Parabacteroides', 'Veillonella'}\n"
     ]
    }
   ],
   "source": [
    "print(l_ge_sG_both)\n",
    "print(l_ge_sG_C_only)\n",
    "print(l_ge_sG_T_only)"
   ]
  },
  {
   "cell_type": "code",
   "execution_count": 33,
   "id": "73ae6f41",
   "metadata": {},
   "outputs": [
    {
     "name": "stdout",
     "output_type": "stream",
     "text": [
      "set()\n",
      "{'Lachnospiraceae ND3007 group', 'Lachnospira', 'Lachnoclostridium', 'Phascolarctobacterium'}\n",
      "{'Faecalitalea', 'Odoribacter', 'Dorea'}\n"
     ]
    }
   ],
   "source": [
    "print(l_ge_sL_both)\n",
    "print(l_ge_sL_C_only)\n",
    "print(l_ge_sL_T_only)"
   ]
  },
  {
   "cell_type": "code",
   "execution_count": 40,
   "id": "cf99dad4",
   "metadata": {},
   "outputs": [
    {
     "data": {
      "text/plain": [
       "Index(['Isoglutamic acid', 'Methyl sulfate', 'N6-Benzyladenine',\n",
       "       'Nicotinamide', 'NMN', 'Phthalic acid', 'Pterin',\n",
       "       'Pyridoxamine 5'-phosphate', 'Ribulose 5-phosphate', 'Suberic acid',\n",
       "       'Tetrahydrouridine', 'Thr-Asp', 'Triethanolamine', 'Trimethylamine'],\n",
       "      dtype='object')"
      ]
     },
     "execution_count": 40,
     "metadata": {},
     "output_type": "execute_result"
    }
   ],
   "source": [
    "l_ra_sL_C"
   ]
  },
  {
   "cell_type": "code",
   "execution_count": 41,
   "id": "5f803c78",
   "metadata": {},
   "outputs": [
    {
     "data": {
      "text/plain": [
       "Index(['2'-Deoxycytidine', '3-Amino-2-piperidone', 'AMP', 'Asp', 'Carnitine',\n",
       "       'Cysteic acid', 'Ethylacetimidate', 'FAD_divalent', 'Hercynine',\n",
       "       'Ile-Pro-Pro', 'N-Acetylglucosamine 1-phosphate', 'Nicotinamide',\n",
       "       'Octopine', 'Phthalic acid', 'Picolinic acid',\n",
       "       'Pyridoxamine 5'-phosphate', 'Ser-Glu', 'Taurine', 'Triethanolamine',\n",
       "       'γ-Butyrobetaine', 'γ-Glu-Asp', 'γ-Glu-Gly', 'γ-Glu-Ser'],\n",
       "      dtype='object')"
      ]
     },
     "execution_count": 41,
     "metadata": {},
     "output_type": "execute_result"
    }
   ],
   "source": [
    "l_ra_sL_T"
   ]
  },
  {
   "cell_type": "code",
   "execution_count": 34,
   "id": "1181f607",
   "metadata": {},
   "outputs": [],
   "source": [
    "l_ra_sG_both = set(l_ra_sG_C) & set(l_ra_sG_T)\n",
    "l_ra_sG_C_only = set(l_ra_sG_C) ^ l_ra_sG_both\n",
    "l_ra_sG_T_only = set(l_ra_sG_T) ^ l_ra_sG_both"
   ]
  },
  {
   "cell_type": "code",
   "execution_count": 35,
   "id": "e57fa7cc",
   "metadata": {},
   "outputs": [],
   "source": [
    "l_ra_sL_both = set(l_ra_sL_C) & set(l_ra_sL_T)\n",
    "l_ra_sL_C_only = set(l_ra_sL_C) ^ l_ra_sL_both\n",
    "l_ra_sL_T_only = set(l_ra_sL_T) ^ l_ra_sL_both"
   ]
  },
  {
   "cell_type": "code",
   "execution_count": 36,
   "id": "b3b675be",
   "metadata": {},
   "outputs": [
    {
     "name": "stdout",
     "output_type": "stream",
     "text": [
      "{'Terephthalic acid', '2-Carboxybenzaldehyde', 'S-Adenosylmethionine', '5-Oxohexanoic acid'}\n",
      "{'Choline', 'γ-Glu-Ala', 'Thiaproline', 'γ-Glu-Lys_divalent', 'Adenine', 'Ornithine', 'N-Formylmethionine', 'N1-Acetylspermine', 'Taurine', 'Methionine sulfoxide', '3-Hydroxybutyric acid', '5-Hydroxypentanoic acid', 'Citrulline', 'γ-Glu-Gln', 'N6-Methyllysine', 'β-Ala', 'Met', 'γ-Glu-Arg_divalent', 'γ-Glu-Met'}\n",
      "{'Pelargonic acid', 'Formiminoglutamic acid', 'Lauric acid', 'Octanoic acid', '3-Hydroxy-2-methyl-4-pyrone', 'N-Methylalanine', 'Glycerol', '4-Pyridoxic acid', 'Decanoic acid', 'Ethanolamine', 'Heptanoic acid', 'Undecanoic acid', 'Myristic acid', 'Nω-Methylarginine'}\n"
     ]
    }
   ],
   "source": [
    "print(l_ra_sG_both)\n",
    "print(l_ra_sG_C_only)\n",
    "print(l_ra_sG_T_only)"
   ]
  },
  {
   "cell_type": "code",
   "execution_count": 37,
   "id": "34ddef8d",
   "metadata": {},
   "outputs": [
    {
     "name": "stdout",
     "output_type": "stream",
     "text": [
      "{'Triethanolamine', \"Pyridoxamine 5'-phosphate\", 'Nicotinamide', 'Phthalic acid'}\n",
      "{'Isoglutamic acid', 'NMN', 'Trimethylamine', 'Tetrahydrouridine', 'Thr-Asp', 'Methyl sulfate', 'Pterin', 'Ribulose 5-phosphate', 'N6-Benzyladenine', 'Suberic acid'}\n",
      "{\"2'-Deoxycytidine\", 'Carnitine', 'FAD_divalent', 'γ-Glu-Ser', 'Asp', '3-Amino-2-piperidone', 'Hercynine', 'Picolinic acid', 'Ethylacetimidate', 'γ-Butyrobetaine', 'Cysteic acid', 'Ser-Glu', 'Octopine', 'γ-Glu-Gly', 'N-Acetylglucosamine 1-phosphate', 'Ile-Pro-Pro', 'Taurine', 'AMP', 'γ-Glu-Asp'}\n"
     ]
    }
   ],
   "source": [
    "print(l_ra_sL_both)\n",
    "print(l_ra_sL_C_only)\n",
    "print(l_ra_sL_T_only)"
   ]
  },
  {
   "cell_type": "code",
   "execution_count": 19,
   "id": "946bb08a",
   "metadata": {},
   "outputs": [],
   "source": [
    "plt.rcParams[\"font.family\"] = \"Arial\"\n",
    "plt.rcParams[\"font.size\"] = 14"
   ]
  },
  {
   "cell_type": "code",
   "execution_count": 20,
   "id": "aba9b0e7",
   "metadata": {},
   "outputs": [
    {
     "name": "stdout",
     "output_type": "stream",
     "text": [
      "mkdir: ../data_output/htest_venn: File exists\n"
     ]
    }
   ],
   "source": [
    "!mkdir ../data_output/htest_venn"
   ]
  },
  {
   "cell_type": "code",
   "execution_count": 21,
   "id": "98e0019f",
   "metadata": {},
   "outputs": [
    {
     "data": {
      "image/png": "[encoded data removed]",
      "text/plain": [
       "<Figure size 432x288 with 1 Axes>"
      ]
     },
     "metadata": {},
     "output_type": "display_data"
    }
   ],
   "source": [
    "venn2(subsets=(len(l_ge_sG_C_only), len(l_ge_sG_T_only), len(l_ge_sG_both)), set_colors=('#2E7C70', '#A91826'), alpha = 1.0)\n",
    "plt.savefig(\"../data_output/htest_venn/venn.ge.0.001.G.pdf\")\n",
    "plt.show()"
   ]
  },
  {
   "cell_type": "code",
   "execution_count": 22,
   "id": "fdf1c9f8",
   "metadata": {},
   "outputs": [
    {
     "data": {
      "image/png": "[encoded data removed]",
      "text/plain": [
       "<Figure size 432x288 with 1 Axes>"
      ]
     },
     "metadata": {},
     "output_type": "display_data"
    }
   ],
   "source": [
    "venn2(subsets=(len(l_ge_sL_C_only), len(l_ge_sL_T_only), len(l_ge_sL_both)), set_colors=('#2E7C70', '#A91826'), alpha = 1.0)\n",
    "plt.savefig(\"../data_output/htest_venn/venn.ge.0.001.L.pdf\")\n",
    "plt.show()"
   ]
  },
  {
   "cell_type": "code",
   "execution_count": 23,
   "id": "ae2c0104",
   "metadata": {},
   "outputs": [],
   "source": [
    "p_ra_T.query(\"wilcoxon < 0.05\").sort_values(\"wilcoxon\").to_csv(\"hoge.tsv\", sep=\"\\t\")"
   ]
  },
  {
   "cell_type": "code",
   "execution_count": 24,
   "id": "e73f2a3b",
   "metadata": {},
   "outputs": [
    {
     "data": {
      "text/plain": [
       "(18, 10)"
      ]
     },
     "execution_count": 24,
     "metadata": {},
     "output_type": "execute_result"
    }
   ],
   "source": [
    "p_ra_T.query(\"wilcoxon < 0.05\").query(\"wilcoxonGL == 'G'\").shape"
   ]
  },
  {
   "cell_type": "code",
   "execution_count": 25,
   "id": "78c03987",
   "metadata": {},
   "outputs": [
    {
     "data": {
      "text/plain": [
       "(23, 10)"
      ]
     },
     "execution_count": 25,
     "metadata": {},
     "output_type": "execute_result"
    }
   ],
   "source": [
    "p_ra_T.query(\"wilcoxon < 0.05\").query(\"wilcoxonGL == 'L'\").shape"
   ]
  },
  {
   "cell_type": "code",
   "execution_count": 26,
   "id": "2f541545",
   "metadata": {},
   "outputs": [
    {
     "name": "stdout",
     "output_type": "stream",
     "text": [
      "{'Terephthalic acid', '2-Carboxybenzaldehyde', 'S-Adenosylmethionine', '5-Oxohexanoic acid'}\n",
      "{'Triethanolamine', \"Pyridoxamine 5'-phosphate\", 'Nicotinamide', 'Phthalic acid'}\n",
      "{'Pelargonic acid', 'Formiminoglutamic acid', 'Lauric acid', 'Octanoic acid', '3-Hydroxy-2-methyl-4-pyrone', 'N-Methylalanine', 'Glycerol', '4-Pyridoxic acid', 'Decanoic acid', 'Ethanolamine', 'Heptanoic acid', 'Undecanoic acid', 'Myristic acid', 'Nω-Methylarginine'}\n",
      "{\"2'-Deoxycytidine\", 'Carnitine', 'FAD_divalent', 'γ-Glu-Ser', 'Asp', '3-Amino-2-piperidone', 'Hercynine', 'Picolinic acid', 'Ethylacetimidate', 'γ-Butyrobetaine', 'Cysteic acid', 'Ser-Glu', 'Octopine', 'γ-Glu-Gly', 'N-Acetylglucosamine 1-phosphate', 'Ile-Pro-Pro', 'Taurine', 'AMP', 'γ-Glu-Asp'}\n",
      "{'Choline', 'γ-Glu-Ala', 'Thiaproline', 'γ-Glu-Lys_divalent', 'Adenine', 'Ornithine', 'N-Formylmethionine', 'N1-Acetylspermine', 'Taurine', 'Methionine sulfoxide', '3-Hydroxybutyric acid', '5-Hydroxypentanoic acid', 'Citrulline', 'γ-Glu-Gln', 'N6-Methyllysine', 'β-Ala', 'Met', 'γ-Glu-Arg_divalent', 'γ-Glu-Met'}\n",
      "{'Isoglutamic acid', 'NMN', 'Trimethylamine', 'Tetrahydrouridine', 'Thr-Asp', 'Methyl sulfate', 'Pterin', 'Ribulose 5-phosphate', 'N6-Benzyladenine', 'Suberic acid'}\n"
     ]
    }
   ],
   "source": [
    "print(l_ra_sG_both)\n",
    "print(l_ra_sL_both)\n",
    "\n",
    "print(l_ra_sG_T_only)\n",
    "print(l_ra_sL_T_only)\n",
    "\n",
    "print(l_ra_sG_C_only)\n",
    "print(l_ra_sL_C_only)"
   ]
  },
  {
   "cell_type": "code",
   "execution_count": 27,
   "id": "d32bd447",
   "metadata": {},
   "outputs": [
    {
     "data": {
      "image/png": "[encoded data removed]",
      "text/plain": [
       "<Figure size 432x288 with 1 Axes>"
      ]
     },
     "metadata": {},
     "output_type": "display_data"
    }
   ],
   "source": [
    "venn2(subsets=(len(l_ra_sG_C_only), len(l_ra_sG_T_only), len(l_ra_sG_both)), set_colors=('#2E7C70', '#A91826'), alpha = 1.0)\n",
    "plt.savefig(\"../data_output/htest_venn/venn.ra.25.G.pdf\")\n",
    "plt.show()"
   ]
  },
  {
   "cell_type": "code",
   "execution_count": 170,
   "id": "24265b1f",
   "metadata": {},
   "outputs": [
    {
     "data": {
      "image/png": "[encoded data removed]",
      "text/plain": [
       "<Figure size 432x288 with 1 Axes>"
      ]
     },
     "metadata": {},
     "output_type": "display_data"
    }
   ],
   "source": [
    "venn2(subsets=(len(l_ra_sL_C_only), len(l_ra_sL_T_only), len(l_ra_sL_both)), set_colors=('#2E7C70', '#A91826'), alpha = 1.0)\n",
    "plt.savefig(\"../data_output/htest_venn/venn.ra.25.L.pdf\")\n",
    "plt.show()"
   ]
  },
  {
   "cell_type": "code",
   "execution_count": 203,
   "id": "cffe94ea",
   "metadata": {},
   "outputs": [
    {
     "data": {
      "text/plain": [
       "{'3-Hydroxybutyric acid',\n",
       " '5-Hydroxypentanoic acid',\n",
       " 'Adenine',\n",
       " 'Choline',\n",
       " 'Citrulline',\n",
       " 'Met',\n",
       " 'Methionine sulfoxide',\n",
       " 'N-Formylmethionine',\n",
       " 'N1-Acetylspermine',\n",
       " 'N6-Methyllysine',\n",
       " 'Ornithine',\n",
       " 'Taurine',\n",
       " 'Thiaproline',\n",
       " 'β-Ala',\n",
       " 'γ-Glu-Ala',\n",
       " 'γ-Glu-Arg_divalent',\n",
       " 'γ-Glu-Gln',\n",
       " 'γ-Glu-Lys_divalent',\n",
       " 'γ-Glu-Met'}"
      ]
     },
     "execution_count": 203,
     "metadata": {},
     "output_type": "execute_result"
    }
   ],
   "source": [
    "l_ra_sG_C_only"
   ]
  },
  {
   "cell_type": "code",
   "execution_count": 204,
   "id": "a8afac54",
   "metadata": {
    "scrolled": true
   },
   "outputs": [
    {
     "data": {
      "text/plain": [
       "{'Isoglutamic acid',\n",
       " 'Methyl sulfate',\n",
       " 'N6-Benzyladenine',\n",
       " 'NMN',\n",
       " 'Pterin',\n",
       " 'Ribulose 5-phosphate',\n",
       " 'Suberic acid',\n",
       " 'Tetrahydrouridine',\n",
       " 'Thr-Asp',\n",
       " 'Trimethylamine'}"
      ]
     },
     "execution_count": 204,
     "metadata": {},
     "output_type": "execute_result"
    }
   ],
   "source": [
    "l_ra_sL_C_only"
   ]
  },
  {
   "cell_type": "code",
   "execution_count": 205,
   "id": "32fd150b",
   "metadata": {},
   "outputs": [
    {
     "data": {
      "text/plain": [
       "{'3-Hydroxy-2-methyl-4-pyrone',\n",
       " '4-Pyridoxic acid',\n",
       " 'Decanoic acid',\n",
       " 'Ethanolamine',\n",
       " 'Formiminoglutamic acid',\n",
       " 'Glycerol',\n",
       " 'Heptanoic acid',\n",
       " 'Lauric acid',\n",
       " 'Myristic acid',\n",
       " 'N-Methylalanine',\n",
       " 'Nω-Methylarginine',\n",
       " 'Octanoic acid',\n",
       " 'Pelargonic acid',\n",
       " 'Undecanoic acid'}"
      ]
     },
     "execution_count": 205,
     "metadata": {},
     "output_type": "execute_result"
    }
   ],
   "source": [
    "l_ra_sG_T_only"
   ]
  },
  {
   "cell_type": "code",
   "execution_count": 206,
   "id": "71a0e30d",
   "metadata": {},
   "outputs": [
    {
     "data": {
      "text/plain": [
       "{\"2'-Deoxycytidine\",\n",
       " '3-Amino-2-piperidone',\n",
       " 'AMP',\n",
       " 'Asp',\n",
       " 'Carnitine',\n",
       " 'Cysteic acid',\n",
       " 'Ethylacetimidate',\n",
       " 'FAD_divalent',\n",
       " 'Hercynine',\n",
       " 'Ile-Pro-Pro',\n",
       " 'N-Acetylglucosamine 1-phosphate',\n",
       " 'Octopine',\n",
       " 'Picolinic acid',\n",
       " 'Ser-Glu',\n",
       " 'Taurine',\n",
       " 'γ-Butyrobetaine',\n",
       " 'γ-Glu-Asp',\n",
       " 'γ-Glu-Gly',\n",
       " 'γ-Glu-Ser'}"
      ]
     },
     "execution_count": 206,
     "metadata": {},
     "output_type": "execute_result"
    }
   ],
   "source": [
    "l_ra_sL_T_only"
   ]
  },
  {
   "cell_type": "code",
   "execution_count": 31,
   "id": "476326a2",
   "metadata": {},
   "outputs": [
    {
     "name": "stdout",
     "output_type": "stream",
     "text": [
      "0.02271774835753083\n",
      "0.04154586431450709\n"
     ]
    }
   ],
   "source": [
    "print(p_ra_C.loc[\"Taurine\", \"wilcoxon\"])\n",
    "print(p_ra_T.loc[\"Taurine\", \"wilcoxon\"])"
   ]
  },
  {
   "cell_type": "code",
   "execution_count": null,
   "id": "9c67b19c",
   "metadata": {},
   "outputs": [],
   "source": []
  }
 ],
 "metadata": {
  "kernelspec": {
   "display_name": "bitools_py3_dev",
   "language": "python",
   "name": "bitools_py3_dev"
  },
  "language_info": {
   "codemirror_mode": {
    "name": "ipython",
    "version": 3
   },
   "file_extension": ".py",
   "mimetype": "text/x-python",
   "name": "python",
   "nbconvert_exporter": "python",
   "pygments_lexer": "ipython3",
   "version": "3.7.6"
  }
 },
 "nbformat": 4,
 "nbformat_minor": 5
}
